{
 "cells": [
  {
   "cell_type": "code",
   "execution_count": 1,
   "metadata": {
    "collapsed": true
   },
   "outputs": [],
   "source": [
    "#Ref: http://localhost:8888/notebooks/Untitled1.ipynb?kernel_name=conda-root-py#"
   ]
  },
  {
   "cell_type": "code",
   "execution_count": 2,
   "metadata": {
    "collapsed": true
   },
   "outputs": [],
   "source": [
    "import numpy as np\n",
    "import pandas as pd\n",
    "import statsmodels.api as sm\n",
    "import matplotlib.pyplot as plt\n",
    "from patsy import dmatrices\n",
    "from sklearn.linear_model import LogisticRegression\n",
    "from sklearn.cross_validation import train_test_split\n",
    "from sklearn import metrics\n",
    "from sklearn.cross_validation import cross_val_score"
   ]
  },
  {
   "cell_type": "code",
   "execution_count": 3,
   "metadata": {
    "collapsed": false
   },
   "outputs": [],
   "source": [
    "dta = pd.read_csv(\"C:/Users/Valued Customer/Desktop/Python/LogisticRegression/CLSLOWBWT.CSV\")"
   ]
  },
  {
   "cell_type": "code",
   "execution_count": 4,
   "metadata": {
    "collapsed": false
   },
   "outputs": [
    {
     "data": {
      "text/html": [
       "<div>\n",
       "<table border=\"1\" class=\"dataframe\">\n",
       "  <thead>\n",
       "    <tr style=\"text-align: right;\">\n",
       "      <th></th>\n",
       "      <th>ID</th>\n",
       "      <th>BIRTH</th>\n",
       "      <th>SMOKE</th>\n",
       "      <th>RACE</th>\n",
       "      <th>AGE</th>\n",
       "      <th>LWT</th>\n",
       "      <th>BWT</th>\n",
       "      <th>LOW</th>\n",
       "    </tr>\n",
       "  </thead>\n",
       "  <tbody>\n",
       "    <tr>\n",
       "      <th>0</th>\n",
       "      <td>1</td>\n",
       "      <td>1</td>\n",
       "      <td>1</td>\n",
       "      <td>3</td>\n",
       "      <td>28</td>\n",
       "      <td>120</td>\n",
       "      <td>2865</td>\n",
       "      <td>0</td>\n",
       "    </tr>\n",
       "    <tr>\n",
       "      <th>1</th>\n",
       "      <td>1</td>\n",
       "      <td>2</td>\n",
       "      <td>1</td>\n",
       "      <td>3</td>\n",
       "      <td>33</td>\n",
       "      <td>141</td>\n",
       "      <td>2609</td>\n",
       "      <td>0</td>\n",
       "    </tr>\n",
       "    <tr>\n",
       "      <th>2</th>\n",
       "      <td>2</td>\n",
       "      <td>1</td>\n",
       "      <td>0</td>\n",
       "      <td>1</td>\n",
       "      <td>29</td>\n",
       "      <td>130</td>\n",
       "      <td>2613</td>\n",
       "      <td>0</td>\n",
       "    </tr>\n",
       "    <tr>\n",
       "      <th>3</th>\n",
       "      <td>2</td>\n",
       "      <td>2</td>\n",
       "      <td>0</td>\n",
       "      <td>1</td>\n",
       "      <td>34</td>\n",
       "      <td>151</td>\n",
       "      <td>3125</td>\n",
       "      <td>0</td>\n",
       "    </tr>\n",
       "    <tr>\n",
       "      <th>4</th>\n",
       "      <td>2</td>\n",
       "      <td>3</td>\n",
       "      <td>0</td>\n",
       "      <td>1</td>\n",
       "      <td>37</td>\n",
       "      <td>144</td>\n",
       "      <td>2481</td>\n",
       "      <td>1</td>\n",
       "    </tr>\n",
       "    <tr>\n",
       "      <th>5</th>\n",
       "      <td>3</td>\n",
       "      <td>1</td>\n",
       "      <td>1</td>\n",
       "      <td>2</td>\n",
       "      <td>31</td>\n",
       "      <td>187</td>\n",
       "      <td>1841</td>\n",
       "      <td>1</td>\n",
       "    </tr>\n",
       "    <tr>\n",
       "      <th>6</th>\n",
       "      <td>3</td>\n",
       "      <td>2</td>\n",
       "      <td>1</td>\n",
       "      <td>2</td>\n",
       "      <td>35</td>\n",
       "      <td>209</td>\n",
       "      <td>1598</td>\n",
       "      <td>1</td>\n",
       "    </tr>\n",
       "    <tr>\n",
       "      <th>7</th>\n",
       "      <td>3</td>\n",
       "      <td>3</td>\n",
       "      <td>1</td>\n",
       "      <td>2</td>\n",
       "      <td>41</td>\n",
       "      <td>217</td>\n",
       "      <td>2015</td>\n",
       "      <td>1</td>\n",
       "    </tr>\n",
       "    <tr>\n",
       "      <th>8</th>\n",
       "      <td>4</td>\n",
       "      <td>1</td>\n",
       "      <td>0</td>\n",
       "      <td>3</td>\n",
       "      <td>25</td>\n",
       "      <td>105</td>\n",
       "      <td>3489</td>\n",
       "      <td>0</td>\n",
       "    </tr>\n",
       "    <tr>\n",
       "      <th>9</th>\n",
       "      <td>4</td>\n",
       "      <td>2</td>\n",
       "      <td>0</td>\n",
       "      <td>3</td>\n",
       "      <td>30</td>\n",
       "      <td>129</td>\n",
       "      <td>3554</td>\n",
       "      <td>0</td>\n",
       "    </tr>\n",
       "    <tr>\n",
       "      <th>10</th>\n",
       "      <td>5</td>\n",
       "      <td>1</td>\n",
       "      <td>0</td>\n",
       "      <td>3</td>\n",
       "      <td>25</td>\n",
       "      <td>85</td>\n",
       "      <td>2719</td>\n",
       "      <td>0</td>\n",
       "    </tr>\n",
       "    <tr>\n",
       "      <th>11</th>\n",
       "      <td>5</td>\n",
       "      <td>2</td>\n",
       "      <td>0</td>\n",
       "      <td>3</td>\n",
       "      <td>30</td>\n",
       "      <td>106</td>\n",
       "      <td>2957</td>\n",
       "      <td>0</td>\n",
       "    </tr>\n",
       "    <tr>\n",
       "      <th>12</th>\n",
       "      <td>6</td>\n",
       "      <td>1</td>\n",
       "      <td>0</td>\n",
       "      <td>3</td>\n",
       "      <td>27</td>\n",
       "      <td>150</td>\n",
       "      <td>3226</td>\n",
       "      <td>0</td>\n",
       "    </tr>\n",
       "    <tr>\n",
       "      <th>13</th>\n",
       "      <td>6</td>\n",
       "      <td>2</td>\n",
       "      <td>0</td>\n",
       "      <td>3</td>\n",
       "      <td>33</td>\n",
       "      <td>172</td>\n",
       "      <td>3293</td>\n",
       "      <td>0</td>\n",
       "    </tr>\n",
       "    <tr>\n",
       "      <th>14</th>\n",
       "      <td>6</td>\n",
       "      <td>3</td>\n",
       "      <td>0</td>\n",
       "      <td>3</td>\n",
       "      <td>36</td>\n",
       "      <td>175</td>\n",
       "      <td>3091</td>\n",
       "      <td>0</td>\n",
       "    </tr>\n",
       "    <tr>\n",
       "      <th>15</th>\n",
       "      <td>7</td>\n",
       "      <td>1</td>\n",
       "      <td>0</td>\n",
       "      <td>3</td>\n",
       "      <td>23</td>\n",
       "      <td>97</td>\n",
       "      <td>3138</td>\n",
       "      <td>0</td>\n",
       "    </tr>\n",
       "    <tr>\n",
       "      <th>16</th>\n",
       "      <td>7</td>\n",
       "      <td>2</td>\n",
       "      <td>0</td>\n",
       "      <td>3</td>\n",
       "      <td>25</td>\n",
       "      <td>106</td>\n",
       "      <td>3247</td>\n",
       "      <td>0</td>\n",
       "    </tr>\n",
       "    <tr>\n",
       "      <th>17</th>\n",
       "      <td>7</td>\n",
       "      <td>3</td>\n",
       "      <td>0</td>\n",
       "      <td>3</td>\n",
       "      <td>31</td>\n",
       "      <td>128</td>\n",
       "      <td>3159</td>\n",
       "      <td>0</td>\n",
       "    </tr>\n",
       "    <tr>\n",
       "      <th>18</th>\n",
       "      <td>8</td>\n",
       "      <td>1</td>\n",
       "      <td>0</td>\n",
       "      <td>2</td>\n",
       "      <td>24</td>\n",
       "      <td>128</td>\n",
       "      <td>2796</td>\n",
       "      <td>0</td>\n",
       "    </tr>\n",
       "    <tr>\n",
       "      <th>19</th>\n",
       "      <td>8</td>\n",
       "      <td>2</td>\n",
       "      <td>0</td>\n",
       "      <td>2</td>\n",
       "      <td>29</td>\n",
       "      <td>152</td>\n",
       "      <td>2603</td>\n",
       "      <td>0</td>\n",
       "    </tr>\n",
       "    <tr>\n",
       "      <th>20</th>\n",
       "      <td>8</td>\n",
       "      <td>3</td>\n",
       "      <td>0</td>\n",
       "      <td>2</td>\n",
       "      <td>35</td>\n",
       "      <td>156</td>\n",
       "      <td>2884</td>\n",
       "      <td>0</td>\n",
       "    </tr>\n",
       "    <tr>\n",
       "      <th>21</th>\n",
       "      <td>9</td>\n",
       "      <td>1</td>\n",
       "      <td>0</td>\n",
       "      <td>3</td>\n",
       "      <td>24</td>\n",
       "      <td>132</td>\n",
       "      <td>3158</td>\n",
       "      <td>0</td>\n",
       "    </tr>\n",
       "    <tr>\n",
       "      <th>22</th>\n",
       "      <td>9</td>\n",
       "      <td>2</td>\n",
       "      <td>0</td>\n",
       "      <td>3</td>\n",
       "      <td>27</td>\n",
       "      <td>147</td>\n",
       "      <td>3523</td>\n",
       "      <td>0</td>\n",
       "    </tr>\n",
       "    <tr>\n",
       "      <th>23</th>\n",
       "      <td>10</td>\n",
       "      <td>1</td>\n",
       "      <td>1</td>\n",
       "      <td>1</td>\n",
       "      <td>21</td>\n",
       "      <td>165</td>\n",
       "      <td>3104</td>\n",
       "      <td>0</td>\n",
       "    </tr>\n",
       "    <tr>\n",
       "      <th>24</th>\n",
       "      <td>10</td>\n",
       "      <td>2</td>\n",
       "      <td>1</td>\n",
       "      <td>1</td>\n",
       "      <td>24</td>\n",
       "      <td>183</td>\n",
       "      <td>3012</td>\n",
       "      <td>0</td>\n",
       "    </tr>\n",
       "    <tr>\n",
       "      <th>25</th>\n",
       "      <td>11</td>\n",
       "      <td>1</td>\n",
       "      <td>1</td>\n",
       "      <td>1</td>\n",
       "      <td>29</td>\n",
       "      <td>105</td>\n",
       "      <td>3176</td>\n",
       "      <td>0</td>\n",
       "    </tr>\n",
       "    <tr>\n",
       "      <th>26</th>\n",
       "      <td>11</td>\n",
       "      <td>2</td>\n",
       "      <td>1</td>\n",
       "      <td>1</td>\n",
       "      <td>31</td>\n",
       "      <td>120</td>\n",
       "      <td>2826</td>\n",
       "      <td>0</td>\n",
       "    </tr>\n",
       "    <tr>\n",
       "      <th>27</th>\n",
       "      <td>11</td>\n",
       "      <td>3</td>\n",
       "      <td>1</td>\n",
       "      <td>1</td>\n",
       "      <td>37</td>\n",
       "      <td>130</td>\n",
       "      <td>2231</td>\n",
       "      <td>1</td>\n",
       "    </tr>\n",
       "    <tr>\n",
       "      <th>28</th>\n",
       "      <td>12</td>\n",
       "      <td>1</td>\n",
       "      <td>1</td>\n",
       "      <td>1</td>\n",
       "      <td>19</td>\n",
       "      <td>91</td>\n",
       "      <td>3335</td>\n",
       "      <td>0</td>\n",
       "    </tr>\n",
       "    <tr>\n",
       "      <th>29</th>\n",
       "      <td>12</td>\n",
       "      <td>2</td>\n",
       "      <td>1</td>\n",
       "      <td>1</td>\n",
       "      <td>24</td>\n",
       "      <td>112</td>\n",
       "      <td>3647</td>\n",
       "      <td>0</td>\n",
       "    </tr>\n",
       "    <tr>\n",
       "      <th>...</th>\n",
       "      <td>...</td>\n",
       "      <td>...</td>\n",
       "      <td>...</td>\n",
       "      <td>...</td>\n",
       "      <td>...</td>\n",
       "      <td>...</td>\n",
       "      <td>...</td>\n",
       "      <td>...</td>\n",
       "    </tr>\n",
       "    <tr>\n",
       "      <th>458</th>\n",
       "      <td>177</td>\n",
       "      <td>2</td>\n",
       "      <td>0</td>\n",
       "      <td>3</td>\n",
       "      <td>33</td>\n",
       "      <td>156</td>\n",
       "      <td>3538</td>\n",
       "      <td>0</td>\n",
       "    </tr>\n",
       "    <tr>\n",
       "      <th>459</th>\n",
       "      <td>177</td>\n",
       "      <td>3</td>\n",
       "      <td>0</td>\n",
       "      <td>3</td>\n",
       "      <td>37</td>\n",
       "      <td>159</td>\n",
       "      <td>4321</td>\n",
       "      <td>0</td>\n",
       "    </tr>\n",
       "    <tr>\n",
       "      <th>460</th>\n",
       "      <td>178</td>\n",
       "      <td>1</td>\n",
       "      <td>0</td>\n",
       "      <td>1</td>\n",
       "      <td>25</td>\n",
       "      <td>120</td>\n",
       "      <td>3460</td>\n",
       "      <td>0</td>\n",
       "    </tr>\n",
       "    <tr>\n",
       "      <th>461</th>\n",
       "      <td>178</td>\n",
       "      <td>2</td>\n",
       "      <td>0</td>\n",
       "      <td>1</td>\n",
       "      <td>29</td>\n",
       "      <td>139</td>\n",
       "      <td>3583</td>\n",
       "      <td>0</td>\n",
       "    </tr>\n",
       "    <tr>\n",
       "      <th>462</th>\n",
       "      <td>179</td>\n",
       "      <td>1</td>\n",
       "      <td>0</td>\n",
       "      <td>3</td>\n",
       "      <td>16</td>\n",
       "      <td>95</td>\n",
       "      <td>3297</td>\n",
       "      <td>0</td>\n",
       "    </tr>\n",
       "    <tr>\n",
       "      <th>463</th>\n",
       "      <td>179</td>\n",
       "      <td>2</td>\n",
       "      <td>0</td>\n",
       "      <td>3</td>\n",
       "      <td>22</td>\n",
       "      <td>127</td>\n",
       "      <td>4165</td>\n",
       "      <td>0</td>\n",
       "    </tr>\n",
       "    <tr>\n",
       "      <th>464</th>\n",
       "      <td>180</td>\n",
       "      <td>1</td>\n",
       "      <td>0</td>\n",
       "      <td>1</td>\n",
       "      <td>20</td>\n",
       "      <td>158</td>\n",
       "      <td>2960</td>\n",
       "      <td>0</td>\n",
       "    </tr>\n",
       "    <tr>\n",
       "      <th>465</th>\n",
       "      <td>180</td>\n",
       "      <td>2</td>\n",
       "      <td>0</td>\n",
       "      <td>1</td>\n",
       "      <td>23</td>\n",
       "      <td>171</td>\n",
       "      <td>3502</td>\n",
       "      <td>0</td>\n",
       "    </tr>\n",
       "    <tr>\n",
       "      <th>466</th>\n",
       "      <td>181</td>\n",
       "      <td>1</td>\n",
       "      <td>0</td>\n",
       "      <td>3</td>\n",
       "      <td>26</td>\n",
       "      <td>160</td>\n",
       "      <td>2765</td>\n",
       "      <td>0</td>\n",
       "    </tr>\n",
       "    <tr>\n",
       "      <th>467</th>\n",
       "      <td>181</td>\n",
       "      <td>2</td>\n",
       "      <td>0</td>\n",
       "      <td>3</td>\n",
       "      <td>31</td>\n",
       "      <td>188</td>\n",
       "      <td>3129</td>\n",
       "      <td>0</td>\n",
       "    </tr>\n",
       "    <tr>\n",
       "      <th>468</th>\n",
       "      <td>181</td>\n",
       "      <td>3</td>\n",
       "      <td>0</td>\n",
       "      <td>3</td>\n",
       "      <td>36</td>\n",
       "      <td>186</td>\n",
       "      <td>3351</td>\n",
       "      <td>0</td>\n",
       "    </tr>\n",
       "    <tr>\n",
       "      <th>469</th>\n",
       "      <td>181</td>\n",
       "      <td>4</td>\n",
       "      <td>0</td>\n",
       "      <td>3</td>\n",
       "      <td>39</td>\n",
       "      <td>175</td>\n",
       "      <td>2725</td>\n",
       "      <td>0</td>\n",
       "    </tr>\n",
       "    <tr>\n",
       "      <th>470</th>\n",
       "      <td>182</td>\n",
       "      <td>1</td>\n",
       "      <td>0</td>\n",
       "      <td>1</td>\n",
       "      <td>21</td>\n",
       "      <td>115</td>\n",
       "      <td>2427</td>\n",
       "      <td>1</td>\n",
       "    </tr>\n",
       "    <tr>\n",
       "      <th>471</th>\n",
       "      <td>182</td>\n",
       "      <td>2</td>\n",
       "      <td>0</td>\n",
       "      <td>1</td>\n",
       "      <td>24</td>\n",
       "      <td>133</td>\n",
       "      <td>2679</td>\n",
       "      <td>0</td>\n",
       "    </tr>\n",
       "    <tr>\n",
       "      <th>472</th>\n",
       "      <td>183</td>\n",
       "      <td>1</td>\n",
       "      <td>0</td>\n",
       "      <td>1</td>\n",
       "      <td>22</td>\n",
       "      <td>129</td>\n",
       "      <td>1912</td>\n",
       "      <td>1</td>\n",
       "    </tr>\n",
       "    <tr>\n",
       "      <th>473</th>\n",
       "      <td>183</td>\n",
       "      <td>2</td>\n",
       "      <td>0</td>\n",
       "      <td>1</td>\n",
       "      <td>28</td>\n",
       "      <td>161</td>\n",
       "      <td>1998</td>\n",
       "      <td>1</td>\n",
       "    </tr>\n",
       "    <tr>\n",
       "      <th>474</th>\n",
       "      <td>183</td>\n",
       "      <td>3</td>\n",
       "      <td>0</td>\n",
       "      <td>1</td>\n",
       "      <td>32</td>\n",
       "      <td>147</td>\n",
       "      <td>1888</td>\n",
       "      <td>1</td>\n",
       "    </tr>\n",
       "    <tr>\n",
       "      <th>475</th>\n",
       "      <td>184</td>\n",
       "      <td>1</td>\n",
       "      <td>0</td>\n",
       "      <td>1</td>\n",
       "      <td>25</td>\n",
       "      <td>130</td>\n",
       "      <td>2922</td>\n",
       "      <td>0</td>\n",
       "    </tr>\n",
       "    <tr>\n",
       "      <th>476</th>\n",
       "      <td>184</td>\n",
       "      <td>2</td>\n",
       "      <td>0</td>\n",
       "      <td>1</td>\n",
       "      <td>27</td>\n",
       "      <td>139</td>\n",
       "      <td>3849</td>\n",
       "      <td>0</td>\n",
       "    </tr>\n",
       "    <tr>\n",
       "      <th>477</th>\n",
       "      <td>185</td>\n",
       "      <td>1</td>\n",
       "      <td>0</td>\n",
       "      <td>1</td>\n",
       "      <td>28</td>\n",
       "      <td>120</td>\n",
       "      <td>2201</td>\n",
       "      <td>1</td>\n",
       "    </tr>\n",
       "    <tr>\n",
       "      <th>478</th>\n",
       "      <td>185</td>\n",
       "      <td>2</td>\n",
       "      <td>0</td>\n",
       "      <td>1</td>\n",
       "      <td>31</td>\n",
       "      <td>138</td>\n",
       "      <td>2372</td>\n",
       "      <td>1</td>\n",
       "    </tr>\n",
       "    <tr>\n",
       "      <th>479</th>\n",
       "      <td>186</td>\n",
       "      <td>1</td>\n",
       "      <td>0</td>\n",
       "      <td>1</td>\n",
       "      <td>32</td>\n",
       "      <td>170</td>\n",
       "      <td>3013</td>\n",
       "      <td>0</td>\n",
       "    </tr>\n",
       "    <tr>\n",
       "      <th>480</th>\n",
       "      <td>186</td>\n",
       "      <td>2</td>\n",
       "      <td>0</td>\n",
       "      <td>1</td>\n",
       "      <td>37</td>\n",
       "      <td>190</td>\n",
       "      <td>3109</td>\n",
       "      <td>0</td>\n",
       "    </tr>\n",
       "    <tr>\n",
       "      <th>481</th>\n",
       "      <td>186</td>\n",
       "      <td>3</td>\n",
       "      <td>0</td>\n",
       "      <td>1</td>\n",
       "      <td>39</td>\n",
       "      <td>191</td>\n",
       "      <td>3086</td>\n",
       "      <td>0</td>\n",
       "    </tr>\n",
       "    <tr>\n",
       "      <th>482</th>\n",
       "      <td>187</td>\n",
       "      <td>1</td>\n",
       "      <td>1</td>\n",
       "      <td>1</td>\n",
       "      <td>19</td>\n",
       "      <td>120</td>\n",
       "      <td>2925</td>\n",
       "      <td>0</td>\n",
       "    </tr>\n",
       "    <tr>\n",
       "      <th>483</th>\n",
       "      <td>187</td>\n",
       "      <td>2</td>\n",
       "      <td>1</td>\n",
       "      <td>1</td>\n",
       "      <td>25</td>\n",
       "      <td>152</td>\n",
       "      <td>3006</td>\n",
       "      <td>0</td>\n",
       "    </tr>\n",
       "    <tr>\n",
       "      <th>484</th>\n",
       "      <td>187</td>\n",
       "      <td>3</td>\n",
       "      <td>1</td>\n",
       "      <td>1</td>\n",
       "      <td>27</td>\n",
       "      <td>128</td>\n",
       "      <td>2237</td>\n",
       "      <td>1</td>\n",
       "    </tr>\n",
       "    <tr>\n",
       "      <th>485</th>\n",
       "      <td>188</td>\n",
       "      <td>1</td>\n",
       "      <td>0</td>\n",
       "      <td>1</td>\n",
       "      <td>24</td>\n",
       "      <td>116</td>\n",
       "      <td>2370</td>\n",
       "      <td>1</td>\n",
       "    </tr>\n",
       "    <tr>\n",
       "      <th>486</th>\n",
       "      <td>188</td>\n",
       "      <td>2</td>\n",
       "      <td>0</td>\n",
       "      <td>1</td>\n",
       "      <td>28</td>\n",
       "      <td>131</td>\n",
       "      <td>2243</td>\n",
       "      <td>1</td>\n",
       "    </tr>\n",
       "    <tr>\n",
       "      <th>487</th>\n",
       "      <td>188</td>\n",
       "      <td>3</td>\n",
       "      <td>0</td>\n",
       "      <td>1</td>\n",
       "      <td>33</td>\n",
       "      <td>138</td>\n",
       "      <td>2422</td>\n",
       "      <td>1</td>\n",
       "    </tr>\n",
       "  </tbody>\n",
       "</table>\n",
       "<p>488 rows × 8 columns</p>\n",
       "</div>"
      ],
      "text/plain": [
       "      ID  BIRTH  SMOKE  RACE  AGE  LWT   BWT  LOW\n",
       "0      1      1      1     3   28  120  2865    0\n",
       "1      1      2      1     3   33  141  2609    0\n",
       "2      2      1      0     1   29  130  2613    0\n",
       "3      2      2      0     1   34  151  3125    0\n",
       "4      2      3      0     1   37  144  2481    1\n",
       "5      3      1      1     2   31  187  1841    1\n",
       "6      3      2      1     2   35  209  1598    1\n",
       "7      3      3      1     2   41  217  2015    1\n",
       "8      4      1      0     3   25  105  3489    0\n",
       "9      4      2      0     3   30  129  3554    0\n",
       "10     5      1      0     3   25   85  2719    0\n",
       "11     5      2      0     3   30  106  2957    0\n",
       "12     6      1      0     3   27  150  3226    0\n",
       "13     6      2      0     3   33  172  3293    0\n",
       "14     6      3      0     3   36  175  3091    0\n",
       "15     7      1      0     3   23   97  3138    0\n",
       "16     7      2      0     3   25  106  3247    0\n",
       "17     7      3      0     3   31  128  3159    0\n",
       "18     8      1      0     2   24  128  2796    0\n",
       "19     8      2      0     2   29  152  2603    0\n",
       "20     8      3      0     2   35  156  2884    0\n",
       "21     9      1      0     3   24  132  3158    0\n",
       "22     9      2      0     3   27  147  3523    0\n",
       "23    10      1      1     1   21  165  3104    0\n",
       "24    10      2      1     1   24  183  3012    0\n",
       "25    11      1      1     1   29  105  3176    0\n",
       "26    11      2      1     1   31  120  2826    0\n",
       "27    11      3      1     1   37  130  2231    1\n",
       "28    12      1      1     1   19   91  3335    0\n",
       "29    12      2      1     1   24  112  3647    0\n",
       "..   ...    ...    ...   ...  ...  ...   ...  ...\n",
       "458  177      2      0     3   33  156  3538    0\n",
       "459  177      3      0     3   37  159  4321    0\n",
       "460  178      1      0     1   25  120  3460    0\n",
       "461  178      2      0     1   29  139  3583    0\n",
       "462  179      1      0     3   16   95  3297    0\n",
       "463  179      2      0     3   22  127  4165    0\n",
       "464  180      1      0     1   20  158  2960    0\n",
       "465  180      2      0     1   23  171  3502    0\n",
       "466  181      1      0     3   26  160  2765    0\n",
       "467  181      2      0     3   31  188  3129    0\n",
       "468  181      3      0     3   36  186  3351    0\n",
       "469  181      4      0     3   39  175  2725    0\n",
       "470  182      1      0     1   21  115  2427    1\n",
       "471  182      2      0     1   24  133  2679    0\n",
       "472  183      1      0     1   22  129  1912    1\n",
       "473  183      2      0     1   28  161  1998    1\n",
       "474  183      3      0     1   32  147  1888    1\n",
       "475  184      1      0     1   25  130  2922    0\n",
       "476  184      2      0     1   27  139  3849    0\n",
       "477  185      1      0     1   28  120  2201    1\n",
       "478  185      2      0     1   31  138  2372    1\n",
       "479  186      1      0     1   32  170  3013    0\n",
       "480  186      2      0     1   37  190  3109    0\n",
       "481  186      3      0     1   39  191  3086    0\n",
       "482  187      1      1     1   19  120  2925    0\n",
       "483  187      2      1     1   25  152  3006    0\n",
       "484  187      3      1     1   27  128  2237    1\n",
       "485  188      1      0     1   24  116  2370    1\n",
       "486  188      2      0     1   28  131  2243    1\n",
       "487  188      3      0     1   33  138  2422    1\n",
       "\n",
       "[488 rows x 8 columns]"
      ]
     },
     "execution_count": 4,
     "metadata": {},
     "output_type": "execute_result"
    }
   ],
   "source": [
    "dta"
   ]
  },
  {
   "cell_type": "code",
   "execution_count": 5,
   "metadata": {
    "collapsed": false
   },
   "outputs": [
    {
     "data": {
      "text/html": [
       "<div>\n",
       "<table border=\"1\" class=\"dataframe\">\n",
       "  <thead>\n",
       "    <tr style=\"text-align: right;\">\n",
       "      <th></th>\n",
       "      <th>ID</th>\n",
       "      <th>BIRTH</th>\n",
       "      <th>SMOKE</th>\n",
       "      <th>RACE</th>\n",
       "      <th>AGE</th>\n",
       "      <th>LWT</th>\n",
       "      <th>BWT</th>\n",
       "    </tr>\n",
       "    <tr>\n",
       "      <th>LOW</th>\n",
       "      <th></th>\n",
       "      <th></th>\n",
       "      <th></th>\n",
       "      <th></th>\n",
       "      <th></th>\n",
       "      <th></th>\n",
       "      <th></th>\n",
       "    </tr>\n",
       "  </thead>\n",
       "  <tbody>\n",
       "    <tr>\n",
       "      <th>0</th>\n",
       "      <td>92.875371</td>\n",
       "      <td>1.836795</td>\n",
       "      <td>0.338279</td>\n",
       "      <td>1.976261</td>\n",
       "      <td>26.163205</td>\n",
       "      <td>144.741840</td>\n",
       "      <td>3204.059347</td>\n",
       "    </tr>\n",
       "    <tr>\n",
       "      <th>1</th>\n",
       "      <td>95.092715</td>\n",
       "      <td>1.953642</td>\n",
       "      <td>0.536424</td>\n",
       "      <td>1.576159</td>\n",
       "      <td>27.059603</td>\n",
       "      <td>138.304636</td>\n",
       "      <td>2033.867550</td>\n",
       "    </tr>\n",
       "  </tbody>\n",
       "</table>\n",
       "</div>"
      ],
      "text/plain": [
       "            ID     BIRTH     SMOKE      RACE        AGE         LWT  \\\n",
       "LOW                                                                   \n",
       "0    92.875371  1.836795  0.338279  1.976261  26.163205  144.741840   \n",
       "1    95.092715  1.953642  0.536424  1.576159  27.059603  138.304636   \n",
       "\n",
       "             BWT  \n",
       "LOW               \n",
       "0    3204.059347  \n",
       "1    2033.867550  "
      ]
     },
     "execution_count": 5,
     "metadata": {},
     "output_type": "execute_result"
    }
   ],
   "source": [
    "dta.groupby('LOW').mean()"
   ]
  },
  {
   "cell_type": "code",
   "execution_count": 85,
   "metadata": {
    "collapsed": false
   },
   "outputs": [
    {
     "data": {
      "text/html": [
       "<div>\n",
       "<table border=\"1\" class=\"dataframe\">\n",
       "  <thead>\n",
       "    <tr style=\"text-align: right;\">\n",
       "      <th></th>\n",
       "      <th>ID</th>\n",
       "      <th>SMOKE</th>\n",
       "      <th>RACE</th>\n",
       "      <th>AGE</th>\n",
       "      <th>LWT</th>\n",
       "      <th>BWT</th>\n",
       "      <th>LOW</th>\n",
       "    </tr>\n",
       "    <tr>\n",
       "      <th>BIRTH</th>\n",
       "      <th></th>\n",
       "      <th></th>\n",
       "      <th></th>\n",
       "      <th></th>\n",
       "      <th></th>\n",
       "      <th></th>\n",
       "      <th></th>\n",
       "    </tr>\n",
       "  </thead>\n",
       "  <tbody>\n",
       "    <tr>\n",
       "      <th>1</th>\n",
       "      <td>94.500000</td>\n",
       "      <td>0.393617</td>\n",
       "      <td>1.851064</td>\n",
       "      <td>22.819149</td>\n",
       "      <td>129.851064</td>\n",
       "      <td>2848.159574</td>\n",
       "      <td>0.281915</td>\n",
       "    </tr>\n",
       "    <tr>\n",
       "      <th>2</th>\n",
       "      <td>94.500000</td>\n",
       "      <td>0.393617</td>\n",
       "      <td>1.851064</td>\n",
       "      <td>26.930851</td>\n",
       "      <td>150.638298</td>\n",
       "      <td>2857.367021</td>\n",
       "      <td>0.303191</td>\n",
       "    </tr>\n",
       "    <tr>\n",
       "      <th>3</th>\n",
       "      <td>89.091837</td>\n",
       "      <td>0.408163</td>\n",
       "      <td>1.857143</td>\n",
       "      <td>31.153061</td>\n",
       "      <td>150.520408</td>\n",
       "      <td>2838.153061</td>\n",
       "      <td>0.367347</td>\n",
       "    </tr>\n",
       "    <tr>\n",
       "      <th>4</th>\n",
       "      <td>99.642857</td>\n",
       "      <td>0.500000</td>\n",
       "      <td>1.857143</td>\n",
       "      <td>35.500000</td>\n",
       "      <td>155.642857</td>\n",
       "      <td>2578.857143</td>\n",
       "      <td>0.357143</td>\n",
       "    </tr>\n",
       "  </tbody>\n",
       "</table>\n",
       "</div>"
      ],
      "text/plain": [
       "              ID     SMOKE      RACE        AGE         LWT          BWT  \\\n",
       "BIRTH                                                                      \n",
       "1      94.500000  0.393617  1.851064  22.819149  129.851064  2848.159574   \n",
       "2      94.500000  0.393617  1.851064  26.930851  150.638298  2857.367021   \n",
       "3      89.091837  0.408163  1.857143  31.153061  150.520408  2838.153061   \n",
       "4      99.642857  0.500000  1.857143  35.500000  155.642857  2578.857143   \n",
       "\n",
       "            LOW  \n",
       "BIRTH            \n",
       "1      0.281915  \n",
       "2      0.303191  \n",
       "3      0.367347  \n",
       "4      0.357143  "
      ]
     },
     "execution_count": 85,
     "metadata": {},
     "output_type": "execute_result"
    }
   ],
   "source": [
    "dta.groupby('BIRTH').mean()"
   ]
  },
  {
   "cell_type": "code",
   "execution_count": 86,
   "metadata": {
    "collapsed": true
   },
   "outputs": [],
   "source": [
    "# show plots in the notebook\n",
    "%matplotlib inline"
   ]
  },
  {
   "cell_type": "code",
   "execution_count": 87,
   "metadata": {
    "collapsed": false
   },
   "outputs": [
    {
     "data": {
      "text/plain": [
       "<matplotlib.text.Text at 0x243cbff99e8>"
      ]
     },
     "execution_count": 87,
     "metadata": {},
     "output_type": "execute_result"
    },
    {
     "data": {
      "image/png": "[encoded data removed]",
      "text/plain": [
       "<matplotlib.figure.Figure at 0x243cafa46d8>"
      ]
     },
     "metadata": {},
     "output_type": "display_data"
    }
   ],
   "source": [
    "# histogram of birth number\n",
    "dta.BIRTH.hist()\n",
    "plt.title('Histogram of Low Birth Weight')\n",
    "plt.xlabel('Birth Number')\n",
    "plt.ylabel('Frequency')"
   ]
  },
  {
   "cell_type": "code",
   "execution_count": 88,
   "metadata": {
    "collapsed": false
   },
   "outputs": [
    {
     "data": {
      "text/plain": [
       "<matplotlib.text.Text at 0x243cc067518>"
      ]
     },
     "execution_count": 88,
     "metadata": {},
     "output_type": "execute_result"
    },
    {
     "data": {
      "image/png": "[encoded data removed]",
      "text/plain": [
       "<matplotlib.figure.Figure at 0x243cc077940>"
      ]
     },
     "metadata": {},
     "output_type": "display_data"
    }
   ],
   "source": [
    "# histogram of age of mother\n",
    "dta.AGE.hist()\n",
    "plt.title('Histogram of Age of Mother')\n",
    "plt.xlabel('Age')\n",
    "plt.ylabel('Frequency')"
   ]
  },
  {
   "cell_type": "code",
   "execution_count": 89,
   "metadata": {
    "collapsed": false
   },
   "outputs": [
    {
     "data": {
      "text/plain": [
       "<matplotlib.text.Text at 0x243cc105358>"
      ]
     },
     "execution_count": 89,
     "metadata": {},
     "output_type": "execute_result"
    },
    {
     "data": {
      "image/png": "[encoded data removed]",
      "text/plain": [
       "<matplotlib.figure.Figure at 0x243cc0f0a90>"
      ]
     },
     "metadata": {},
     "output_type": "display_data"
    }
   ],
   "source": [
    "# barplot of low birth weights grouped by smoker status (True or False)\n",
    "pd.crosstab(dta.SMOKE, dta.LOW.astype(bool)).plot(kind='bar')\n",
    "plt.title('Somker Distribution by Low Birth Weight')\n",
    "plt.xlabel('Smoker')\n",
    "plt.ylabel('Frequency')"
   ]
  },
  {
   "cell_type": "code",
   "execution_count": 90,
   "metadata": {
    "collapsed": false
   },
   "outputs": [
    {
     "data": {
      "text/plain": [
       "<matplotlib.text.Text at 0x243cc1764a8>"
      ]
     },
     "execution_count": 90,
     "metadata": {},
     "output_type": "execute_result"
    },
    {
     "data": {
      "image/png": "[encoded data removed]",
      "text/plain": [
       "<matplotlib.figure.Figure at 0x243cc08f6d8>"
      ]
     },
     "metadata": {},
     "output_type": "display_data"
    }
   ],
   "source": [
    "low_age = pd.crosstab(dta.AGE, dta.LOW.astype(bool))\n",
    "low_age.div(low_age.sum(1).astype(float), axis=0).plot(kind='bar', stacked=True)\n",
    "plt.title('Low Birth Weight Percentage by Age of Mother')\n",
    "plt.xlabel('Age of Mother')\n",
    "plt.ylabel('Percentage')"
   ]
  },
  {
   "cell_type": "code",
   "execution_count": 91,
   "metadata": {
    "collapsed": false
   },
   "outputs": [
    {
     "name": "stdout",
     "output_type": "stream",
     "text": [
      "Index(['Intercept', 'ID', 'BIRTH', 'SMOKE', 'RACE', 'AGE', 'LWT'], dtype='object')\n"
     ]
    }
   ],
   "source": [
    "# create dataframes with an intercept column and dummy variables for\n",
    "y, X = dmatrices('LOW ~ ID + BIRTH + SMOKE + RACE + AGE + LWT',\n",
    "                  dta, return_type=\"dataframe\")\n",
    "print (X.columns)"
   ]
  },
  {
   "cell_type": "code",
   "execution_count": 92,
   "metadata": {
    "collapsed": true
   },
   "outputs": [],
   "source": [
    "# flatten y into a 1-D array\n",
    "y = np.ravel(y)"
   ]
  },
  {
   "cell_type": "code",
   "execution_count": 93,
   "metadata": {
    "collapsed": false
   },
   "outputs": [
    {
     "data": {
      "text/plain": [
       "0.70696721311475408"
      ]
     },
     "execution_count": 93,
     "metadata": {},
     "output_type": "execute_result"
    }
   ],
   "source": [
    "# instantiate a logistic regression model, and fit with X and y\n",
    "model = LogisticRegression()\n",
    "model = model.fit(X, y)\n",
    "\n",
    "# check the accuracy on the training set\n",
    "model.score(X, y)"
   ]
  },
  {
   "cell_type": "code",
   "execution_count": 94,
   "metadata": {
    "collapsed": false
   },
   "outputs": [
    {
     "data": {
      "text/plain": [
       "0.3094262295081967"
      ]
     },
     "execution_count": 94,
     "metadata": {},
     "output_type": "execute_result"
    }
   ],
   "source": [
    "# what percentage had low birth weights?\n",
    "y.mean()"
   ]
  },
  {
   "cell_type": "code",
   "execution_count": 95,
   "metadata": {
    "collapsed": false
   },
   "outputs": [
    {
     "ename": "TypeError",
     "evalue": "data argument can't be an iterator",
     "output_type": "error",
     "traceback": [
      "\u001b[0;31m---------------------------------------------------------------------------\u001b[0m",
      "\u001b[0;31mTypeError\u001b[0m                                 Traceback (most recent call last)",
      "\u001b[0;32m<ipython-input-95-b065391a8497>\u001b[0m in \u001b[0;36m<module>\u001b[0;34m()\u001b[0m\n\u001b[1;32m      1\u001b[0m \u001b[1;31m# examine the coefficients\u001b[0m\u001b[1;33m\u001b[0m\u001b[1;33m\u001b[0m\u001b[0m\n\u001b[0;32m----> 2\u001b[0;31m \u001b[0mpd\u001b[0m\u001b[1;33m.\u001b[0m\u001b[0mDataFrame\u001b[0m\u001b[1;33m(\u001b[0m\u001b[0mzip\u001b[0m\u001b[1;33m(\u001b[0m\u001b[0mX\u001b[0m\u001b[1;33m.\u001b[0m\u001b[0mcolumns\u001b[0m\u001b[1;33m,\u001b[0m \u001b[0mnp\u001b[0m\u001b[1;33m.\u001b[0m\u001b[0mtranspose\u001b[0m\u001b[1;33m(\u001b[0m\u001b[0mmodel\u001b[0m\u001b[1;33m.\u001b[0m\u001b[0mcoef_\u001b[0m\u001b[1;33m)\u001b[0m\u001b[1;33m)\u001b[0m\u001b[1;33m)\u001b[0m\u001b[1;33m\u001b[0m\u001b[0m\n\u001b[0m",
      "\u001b[0;32mC:\\Users\\Valued Customer\\Anaconda3\\lib\\site-packages\\pandas\\core\\frame.py\u001b[0m in \u001b[0;36m__init__\u001b[0;34m(self, data, index, columns, dtype, copy)\u001b[0m\n\u001b[1;32m    281\u001b[0m                 \u001b[0mmgr\u001b[0m \u001b[1;33m=\u001b[0m \u001b[0mself\u001b[0m\u001b[1;33m.\u001b[0m\u001b[0m_init_dict\u001b[0m\u001b[1;33m(\u001b[0m\u001b[1;33m{\u001b[0m\u001b[1;33m}\u001b[0m\u001b[1;33m,\u001b[0m \u001b[0mindex\u001b[0m\u001b[1;33m,\u001b[0m \u001b[0mcolumns\u001b[0m\u001b[1;33m,\u001b[0m \u001b[0mdtype\u001b[0m\u001b[1;33m=\u001b[0m\u001b[0mdtype\u001b[0m\u001b[1;33m)\u001b[0m\u001b[1;33m\u001b[0m\u001b[0m\n\u001b[1;32m    282\u001b[0m         \u001b[1;32melif\u001b[0m \u001b[0misinstance\u001b[0m\u001b[1;33m(\u001b[0m\u001b[0mdata\u001b[0m\u001b[1;33m,\u001b[0m \u001b[0mcollections\u001b[0m\u001b[1;33m.\u001b[0m\u001b[0mIterator\u001b[0m\u001b[1;33m)\u001b[0m\u001b[1;33m:\u001b[0m\u001b[1;33m\u001b[0m\u001b[0m\n\u001b[0;32m--> 283\u001b[0;31m             \u001b[1;32mraise\u001b[0m \u001b[0mTypeError\u001b[0m\u001b[1;33m(\u001b[0m\u001b[1;34m\"data argument can't be an iterator\"\u001b[0m\u001b[1;33m)\u001b[0m\u001b[1;33m\u001b[0m\u001b[0m\n\u001b[0m\u001b[1;32m    284\u001b[0m         \u001b[1;32melse\u001b[0m\u001b[1;33m:\u001b[0m\u001b[1;33m\u001b[0m\u001b[0m\n\u001b[1;32m    285\u001b[0m             \u001b[1;32mtry\u001b[0m\u001b[1;33m:\u001b[0m\u001b[1;33m\u001b[0m\u001b[0m\n",
      "\u001b[0;31mTypeError\u001b[0m: data argument can't be an iterator"
     ]
    }
   ],
   "source": [
    "# examine the coefficients\n",
    "pd.DataFrame(zip(X.columns, np.transpose(model.coef_)))"
   ]
  },
  {
   "cell_type": "code",
   "execution_count": 96,
   "metadata": {
    "collapsed": false
   },
   "outputs": [
    {
     "ename": "NameError",
     "evalue": "name 'categories' is not defined",
     "output_type": "error",
     "traceback": [
      "\u001b[0;31m---------------------------------------------------------------------------\u001b[0m",
      "\u001b[0;31mNameError\u001b[0m                                 Traceback (most recent call last)",
      "\u001b[0;32m<ipython-input-96-1a89bc375cbc>\u001b[0m in \u001b[0;36m<module>\u001b[0;34m()\u001b[0m\n\u001b[1;32m      5\u001b[0m \u001b[0mage_groups\u001b[0m \u001b[1;33m=\u001b[0m \u001b[0mpd\u001b[0m\u001b[1;33m.\u001b[0m\u001b[0mcut\u001b[0m\u001b[1;33m(\u001b[0m\u001b[0mdf1\u001b[0m\u001b[1;33m[\u001b[0m\u001b[1;34m'AGE'\u001b[0m\u001b[1;33m]\u001b[0m\u001b[1;33m,\u001b[0m \u001b[0mbins\u001b[0m\u001b[1;33m,\u001b[0m \u001b[0mlabels\u001b[0m\u001b[1;33m=\u001b[0m\u001b[0mgroup_names\u001b[0m\u001b[1;33m)\u001b[0m\u001b[1;33m\u001b[0m\u001b[0m\n\u001b[1;32m      6\u001b[0m \u001b[0mdf1\u001b[0m\u001b[1;33m[\u001b[0m\u001b[1;34m'age_groups'\u001b[0m\u001b[1;33m]\u001b[0m \u001b[1;33m=\u001b[0m \u001b[0mpd\u001b[0m\u001b[1;33m.\u001b[0m\u001b[0mcut\u001b[0m\u001b[1;33m(\u001b[0m\u001b[0mdf1\u001b[0m\u001b[1;33m[\u001b[0m\u001b[1;34m'AGE'\u001b[0m\u001b[1;33m]\u001b[0m\u001b[1;33m,\u001b[0m \u001b[0mbins\u001b[0m\u001b[1;33m,\u001b[0m \u001b[0mlabels\u001b[0m\u001b[1;33m=\u001b[0m\u001b[0mgroup_names\u001b[0m\u001b[1;33m)\u001b[0m\u001b[1;33m\u001b[0m\u001b[0m\n\u001b[0;32m----> 7\u001b[0;31m \u001b[0mcategories\u001b[0m\u001b[1;33m\u001b[0m\u001b[0m\n\u001b[0m\u001b[1;32m      8\u001b[0m \u001b[0mdf1\u001b[0m\u001b[1;33m.\u001b[0m\u001b[0mhead\u001b[0m\u001b[1;33m(\u001b[0m\u001b[1;36m5\u001b[0m\u001b[1;33m)\u001b[0m\u001b[1;33m\u001b[0m\u001b[0m\n",
      "\u001b[0;31mNameError\u001b[0m: name 'categories' is not defined"
     ]
    }
   ],
   "source": [
    "df1 = pd.DataFrame(dta, columns=['ID','AGE'])\n",
    "df2 = pd.DataFrame(dta, columns=['ID', 'BIRTH', 'SMOKE', 'RACE', 'LWT', 'LOW'])\n",
    "bins = [15, 25, 35, 45, 55]\n",
    "group_names = ['15-24', '25-34', '35-44', '45-55']\n",
    "age_groups = pd.cut(df1['AGE'], bins, labels=group_names)\n",
    "df1['age_groups'] = pd.cut(df1['AGE'], bins, labels=group_names)\n",
    "categories\n",
    "df1.head(5)"
   ]
  },
  {
   "cell_type": "code",
   "execution_count": 97,
   "metadata": {
    "collapsed": false
   },
   "outputs": [
    {
     "data": {
      "text/html": [
       "<div>\n",
       "<table border=\"1\" class=\"dataframe\">\n",
       "  <thead>\n",
       "    <tr style=\"text-align: right;\">\n",
       "      <th></th>\n",
       "      <th>ID</th>\n",
       "      <th>BIRTH</th>\n",
       "      <th>SMOKE</th>\n",
       "      <th>RACE</th>\n",
       "      <th>LWT</th>\n",
       "      <th>LOW</th>\n",
       "      <th>AGE</th>\n",
       "      <th>age_groups</th>\n",
       "    </tr>\n",
       "  </thead>\n",
       "  <tbody>\n",
       "    <tr>\n",
       "      <th>0</th>\n",
       "      <td>1</td>\n",
       "      <td>1</td>\n",
       "      <td>1</td>\n",
       "      <td>3</td>\n",
       "      <td>120</td>\n",
       "      <td>0</td>\n",
       "      <td>28</td>\n",
       "      <td>25-34</td>\n",
       "    </tr>\n",
       "    <tr>\n",
       "      <th>1</th>\n",
       "      <td>1</td>\n",
       "      <td>1</td>\n",
       "      <td>1</td>\n",
       "      <td>3</td>\n",
       "      <td>120</td>\n",
       "      <td>0</td>\n",
       "      <td>33</td>\n",
       "      <td>25-34</td>\n",
       "    </tr>\n",
       "    <tr>\n",
       "      <th>2</th>\n",
       "      <td>1</td>\n",
       "      <td>2</td>\n",
       "      <td>1</td>\n",
       "      <td>3</td>\n",
       "      <td>141</td>\n",
       "      <td>0</td>\n",
       "      <td>28</td>\n",
       "      <td>25-34</td>\n",
       "    </tr>\n",
       "    <tr>\n",
       "      <th>3</th>\n",
       "      <td>1</td>\n",
       "      <td>2</td>\n",
       "      <td>1</td>\n",
       "      <td>3</td>\n",
       "      <td>141</td>\n",
       "      <td>0</td>\n",
       "      <td>33</td>\n",
       "      <td>25-34</td>\n",
       "    </tr>\n",
       "    <tr>\n",
       "      <th>4</th>\n",
       "      <td>2</td>\n",
       "      <td>1</td>\n",
       "      <td>0</td>\n",
       "      <td>1</td>\n",
       "      <td>130</td>\n",
       "      <td>0</td>\n",
       "      <td>29</td>\n",
       "      <td>25-34</td>\n",
       "    </tr>\n",
       "  </tbody>\n",
       "</table>\n",
       "</div>"
      ],
      "text/plain": [
       "   ID  BIRTH  SMOKE  RACE  LWT  LOW  AGE age_groups\n",
       "0   1      1      1     3  120    0   28      25-34\n",
       "1   1      1      1     3  120    0   33      25-34\n",
       "2   1      2      1     3  141    0   28      25-34\n",
       "3   1      2      1     3  141    0   33      25-34\n",
       "4   2      1      0     1  130    0   29      25-34"
      ]
     },
     "execution_count": 97,
     "metadata": {},
     "output_type": "execute_result"
    }
   ],
   "source": [
    "left = df2\n",
    "right = df1\n",
    "result = pd.merge(left, right, on='ID')\n",
    "result.head(5)"
   ]
  },
  {
   "cell_type": "code",
   "execution_count": 98,
   "metadata": {
    "collapsed": false
   },
   "outputs": [
    {
     "name": "stdout",
     "output_type": "stream",
     "text": [
      "Index(['Intercept', 'age_groups[T.25-34]', 'age_groups[T.35-44]',\n",
      "       'age_groups[T.45-55]', 'BIRTH', 'SMOKE', 'RACE', 'LWT'],\n",
      "      dtype='object')\n"
     ]
    }
   ],
   "source": [
    "y, Z = dmatrices('LOW ~ BIRTH + SMOKE + RACE + age_groups + LWT', result, return_type=\"dataframe\")\n",
    "print (Z.columns)"
   ]
  },
  {
   "cell_type": "code",
   "execution_count": 99,
   "metadata": {
    "collapsed": false
   },
   "outputs": [
    {
     "ename": "NameError",
     "evalue": "name 'Index' is not defined",
     "output_type": "error",
     "traceback": [
      "\u001b[0;31m---------------------------------------------------------------------------\u001b[0m",
      "\u001b[0;31mNameError\u001b[0m                                 Traceback (most recent call last)",
      "\u001b[0;32m<ipython-input-99-d7eedfb56d1a>\u001b[0m in \u001b[0;36m<module>\u001b[0;34m()\u001b[0m\n\u001b[0;32m----> 1\u001b[0;31m \u001b[0mIndex\u001b[0m\u001b[1;33m(\u001b[0m\u001b[1;33m[\u001b[0m\u001b[1;34mu'Intercept'\u001b[0m\u001b[1;33m,\u001b[0m \u001b[1;34mu'age_groups[T.25-34]'\u001b[0m\u001b[1;33m,\u001b[0m \u001b[1;34mu'age_groups[T.35-44]'\u001b[0m\u001b[1;33m,\u001b[0m \u001b[1;34mu'age_groups[T.45-55]'\u001b[0m\u001b[1;33m,\u001b[0m \u001b[1;34mu'BIRTH'\u001b[0m\u001b[1;33m,\u001b[0m \u001b[1;34mu'SMOKE'\u001b[0m\u001b[1;33m,\u001b[0m \u001b[1;34mu'RACE'\u001b[0m\u001b[1;33m,\u001b[0m \u001b[1;34mu'LWT'\u001b[0m\u001b[1;33m]\u001b[0m\u001b[1;33m,\u001b[0m\u001b[0mdtype\u001b[0m\u001b[1;33m=\u001b[0m\u001b[1;34m'object'\u001b[0m\u001b[1;33m)\u001b[0m\u001b[1;33m\u001b[0m\u001b[0m\n\u001b[0m",
      "\u001b[0;31mNameError\u001b[0m: name 'Index' is not defined"
     ]
    }
   ],
   "source": [
    "Index([u'Intercept', u'age_groups[T.25-34]', u'age_groups[T.35-44]', u'age_groups[T.45-55]', u'BIRTH', u'SMOKE', u'RACE', u'LWT'],dtype='object')"
   ]
  },
  {
   "cell_type": "code",
   "execution_count": 100,
   "metadata": {
    "collapsed": true
   },
   "outputs": [],
   "source": [
    "# flatten y into a 1-D array\n",
    "y = np.ravel(y)"
   ]
  },
  {
   "cell_type": "code",
   "execution_count": 101,
   "metadata": {
    "collapsed": false
   },
   "outputs": [
    {
     "data": {
      "text/plain": [
       "array([ 0.,  0.,  0., ...,  1.,  1.,  1.])"
      ]
     },
     "execution_count": 101,
     "metadata": {},
     "output_type": "execute_result"
    }
   ],
   "source": [
    "y"
   ]
  },
  {
   "cell_type": "code",
   "execution_count": 102,
   "metadata": {
    "collapsed": false
   },
   "outputs": [
    {
     "data": {
      "text/html": [
       "<div>\n",
       "<table border=\"1\" class=\"dataframe\">\n",
       "  <thead>\n",
       "    <tr style=\"text-align: right;\">\n",
       "      <th></th>\n",
       "      <th>Intercept</th>\n",
       "      <th>age_groups[T.25-34]</th>\n",
       "      <th>age_groups[T.35-44]</th>\n",
       "      <th>age_groups[T.45-55]</th>\n",
       "      <th>BIRTH</th>\n",
       "      <th>SMOKE</th>\n",
       "      <th>RACE</th>\n",
       "      <th>LWT</th>\n",
       "    </tr>\n",
       "  </thead>\n",
       "  <tbody>\n",
       "    <tr>\n",
       "      <th>0</th>\n",
       "      <td>1.0</td>\n",
       "      <td>1.0</td>\n",
       "      <td>0.0</td>\n",
       "      <td>0.0</td>\n",
       "      <td>1.0</td>\n",
       "      <td>1.0</td>\n",
       "      <td>3.0</td>\n",
       "      <td>120.0</td>\n",
       "    </tr>\n",
       "    <tr>\n",
       "      <th>1</th>\n",
       "      <td>1.0</td>\n",
       "      <td>1.0</td>\n",
       "      <td>0.0</td>\n",
       "      <td>0.0</td>\n",
       "      <td>1.0</td>\n",
       "      <td>1.0</td>\n",
       "      <td>3.0</td>\n",
       "      <td>120.0</td>\n",
       "    </tr>\n",
       "    <tr>\n",
       "      <th>2</th>\n",
       "      <td>1.0</td>\n",
       "      <td>1.0</td>\n",
       "      <td>0.0</td>\n",
       "      <td>0.0</td>\n",
       "      <td>2.0</td>\n",
       "      <td>1.0</td>\n",
       "      <td>3.0</td>\n",
       "      <td>141.0</td>\n",
       "    </tr>\n",
       "    <tr>\n",
       "      <th>3</th>\n",
       "      <td>1.0</td>\n",
       "      <td>1.0</td>\n",
       "      <td>0.0</td>\n",
       "      <td>0.0</td>\n",
       "      <td>2.0</td>\n",
       "      <td>1.0</td>\n",
       "      <td>3.0</td>\n",
       "      <td>141.0</td>\n",
       "    </tr>\n",
       "    <tr>\n",
       "      <th>4</th>\n",
       "      <td>1.0</td>\n",
       "      <td>1.0</td>\n",
       "      <td>0.0</td>\n",
       "      <td>0.0</td>\n",
       "      <td>1.0</td>\n",
       "      <td>0.0</td>\n",
       "      <td>1.0</td>\n",
       "      <td>130.0</td>\n",
       "    </tr>\n",
       "  </tbody>\n",
       "</table>\n",
       "</div>"
      ],
      "text/plain": [
       "   Intercept  age_groups[T.25-34]  age_groups[T.35-44]  age_groups[T.45-55]  \\\n",
       "0        1.0                  1.0                  0.0                  0.0   \n",
       "1        1.0                  1.0                  0.0                  0.0   \n",
       "2        1.0                  1.0                  0.0                  0.0   \n",
       "3        1.0                  1.0                  0.0                  0.0   \n",
       "4        1.0                  1.0                  0.0                  0.0   \n",
       "\n",
       "   BIRTH  SMOKE  RACE    LWT  \n",
       "0    1.0    1.0   3.0  120.0  \n",
       "1    1.0    1.0   3.0  120.0  \n",
       "2    2.0    1.0   3.0  141.0  \n",
       "3    2.0    1.0   3.0  141.0  \n",
       "4    1.0    0.0   1.0  130.0  "
      ]
     },
     "execution_count": 102,
     "metadata": {},
     "output_type": "execute_result"
    }
   ],
   "source": [
    "Z.head(5)"
   ]
  },
  {
   "cell_type": "code",
   "execution_count": 103,
   "metadata": {
    "collapsed": false
   },
   "outputs": [
    {
     "data": {
      "text/plain": [
       "0.71320754716981127"
      ]
     },
     "execution_count": 103,
     "metadata": {},
     "output_type": "execute_result"
    }
   ],
   "source": [
    "# instantiate a logistic regression model, and fit with X and y\n",
    "model1 = LogisticRegression()\n",
    "model1 = model1.fit(Z, y)\n",
    "\n",
    "# check the accuracy on the training set\n",
    "model1.score(Z, y)"
   ]
  },
  {
   "cell_type": "code",
   "execution_count": 104,
   "metadata": {
    "collapsed": false
   },
   "outputs": [
    {
     "data": {
      "text/plain": [
       "0.30867924528301888"
      ]
     },
     "execution_count": 104,
     "metadata": {},
     "output_type": "execute_result"
    }
   ],
   "source": [
    "# what percentage had low birth weights?\n",
    "y.mean()"
   ]
  },
  {
   "cell_type": "code",
   "execution_count": 105,
   "metadata": {
    "collapsed": false
   },
   "outputs": [
    {
     "ename": "TypeError",
     "evalue": "data argument can't be an iterator",
     "output_type": "error",
     "traceback": [
      "\u001b[0;31m---------------------------------------------------------------------------\u001b[0m",
      "\u001b[0;31mTypeError\u001b[0m                                 Traceback (most recent call last)",
      "\u001b[0;32m<ipython-input-105-be83b2b5ac8d>\u001b[0m in \u001b[0;36m<module>\u001b[0;34m()\u001b[0m\n\u001b[1;32m      1\u001b[0m \u001b[1;31m# examine the coefficients\u001b[0m\u001b[1;33m\u001b[0m\u001b[1;33m\u001b[0m\u001b[0m\n\u001b[0;32m----> 2\u001b[0;31m \u001b[0mpd\u001b[0m\u001b[1;33m.\u001b[0m\u001b[0mDataFrame\u001b[0m\u001b[1;33m(\u001b[0m\u001b[0mzip\u001b[0m\u001b[1;33m(\u001b[0m\u001b[0mZ\u001b[0m\u001b[1;33m.\u001b[0m\u001b[0mcolumns\u001b[0m\u001b[1;33m,\u001b[0m \u001b[0mnp\u001b[0m\u001b[1;33m.\u001b[0m\u001b[0mtranspose\u001b[0m\u001b[1;33m(\u001b[0m\u001b[0mmodel\u001b[0m\u001b[1;33m.\u001b[0m\u001b[0mcoef_\u001b[0m\u001b[1;33m)\u001b[0m\u001b[1;33m)\u001b[0m\u001b[1;33m)\u001b[0m\u001b[1;33m\u001b[0m\u001b[0m\n\u001b[0m",
      "\u001b[0;32mC:\\Users\\Valued Customer\\Anaconda3\\lib\\site-packages\\pandas\\core\\frame.py\u001b[0m in \u001b[0;36m__init__\u001b[0;34m(self, data, index, columns, dtype, copy)\u001b[0m\n\u001b[1;32m    281\u001b[0m                 \u001b[0mmgr\u001b[0m \u001b[1;33m=\u001b[0m \u001b[0mself\u001b[0m\u001b[1;33m.\u001b[0m\u001b[0m_init_dict\u001b[0m\u001b[1;33m(\u001b[0m\u001b[1;33m{\u001b[0m\u001b[1;33m}\u001b[0m\u001b[1;33m,\u001b[0m \u001b[0mindex\u001b[0m\u001b[1;33m,\u001b[0m \u001b[0mcolumns\u001b[0m\u001b[1;33m,\u001b[0m \u001b[0mdtype\u001b[0m\u001b[1;33m=\u001b[0m\u001b[0mdtype\u001b[0m\u001b[1;33m)\u001b[0m\u001b[1;33m\u001b[0m\u001b[0m\n\u001b[1;32m    282\u001b[0m         \u001b[1;32melif\u001b[0m \u001b[0misinstance\u001b[0m\u001b[1;33m(\u001b[0m\u001b[0mdata\u001b[0m\u001b[1;33m,\u001b[0m \u001b[0mcollections\u001b[0m\u001b[1;33m.\u001b[0m\u001b[0mIterator\u001b[0m\u001b[1;33m)\u001b[0m\u001b[1;33m:\u001b[0m\u001b[1;33m\u001b[0m\u001b[0m\n\u001b[0;32m--> 283\u001b[0;31m             \u001b[1;32mraise\u001b[0m \u001b[0mTypeError\u001b[0m\u001b[1;33m(\u001b[0m\u001b[1;34m\"data argument can't be an iterator\"\u001b[0m\u001b[1;33m)\u001b[0m\u001b[1;33m\u001b[0m\u001b[0m\n\u001b[0m\u001b[1;32m    284\u001b[0m         \u001b[1;32melse\u001b[0m\u001b[1;33m:\u001b[0m\u001b[1;33m\u001b[0m\u001b[0m\n\u001b[1;32m    285\u001b[0m             \u001b[1;32mtry\u001b[0m\u001b[1;33m:\u001b[0m\u001b[1;33m\u001b[0m\u001b[0m\n",
      "\u001b[0;31mTypeError\u001b[0m: data argument can't be an iterator"
     ]
    }
   ],
   "source": [
    "# examine the coefficients\n",
    "pd.DataFrame(zip(Z.columns, np.transpose(model.coef_)))"
   ]
  },
  {
   "cell_type": "code",
   "execution_count": 106,
   "metadata": {
    "collapsed": false
   },
   "outputs": [
    {
     "data": {
      "text/plain": [
       "LogisticRegression(C=1.0, class_weight=None, dual=False, fit_intercept=True,\n",
       "          intercept_scaling=1, max_iter=100, multi_class='ovr', n_jobs=1,\n",
       "          penalty='l2', random_state=None, solver='liblinear', tol=0.0001,\n",
       "          verbose=0, warm_start=False)"
      ]
     },
     "execution_count": 106,
     "metadata": {},
     "output_type": "execute_result"
    }
   ],
   "source": [
    "# evaluate the model by splitting into train and test sets\n",
    "Z_train, Z_test, y_train, y_test = train_test_split(Z, y, test_size=0.3, random_state=0)\n",
    "model2 = LogisticRegression()\n",
    "model2.fit(Z_train, y_train)"
   ]
  },
  {
   "cell_type": "code",
   "execution_count": 107,
   "metadata": {
    "collapsed": false
   },
   "outputs": [
    {
     "data": {
      "text/plain": [
       "LogisticRegression(C=1.0, class_weight=None, dual=False, fit_intercept=True,\n",
       "          intercept_scaling=1, max_iter=100, multi_class='ovr', n_jobs=1,\n",
       "          penalty='l2', random_state=None, solver='liblinear', tol=0.0001,\n",
       "          verbose=0, warm_start=False)"
      ]
     },
     "execution_count": 107,
     "metadata": {},
     "output_type": "execute_result"
    }
   ],
   "source": [
    "LogisticRegression(C=1.0, class_weight=None, dual=False, fit_intercept=True,\n",
    "          intercept_scaling=1, max_iter=100, multi_class='ovr',\n",
    "          penalty='l2', random_state=None, solver='liblinear', tol=0.0001,\n",
    "          verbose=0)"
   ]
  },
  {
   "cell_type": "code",
   "execution_count": 108,
   "metadata": {
    "collapsed": false
   },
   "outputs": [
    {
     "name": "stdout",
     "output_type": "stream",
     "text": [
      "[ 0.  0.  0.  0.  0.  0.  0.  0.  0.  0.  0.  0.  0.  0.  1.  1.  0.  0.\n",
      "  0.  0.  0.  0.  0.  0.  0.  0.  0.  0.  1.  0.  0.  0.  0.  0.  0.  0.\n",
      "  1.  1.  0.  0.  0.  0.  0.  0.  0.  1.  0.  1.  0.  0.  0.  0.  0.  0.\n",
      "  0.  0.  0.  0.  0.  1.  0.  0.  1.  0.  0.  0.  0.  0.  0.  0.  0.  0.\n",
      "  0.  0.  0.  0.  0.  0.  0.  0.  0.  0.  0.  0.  0.  0.  0.  0.  0.  0.\n",
      "  0.  0.  0.  0.  0.  0.  0.  0.  0.  0.  0.  1.  0.  0.  0.  1.  0.  0.\n",
      "  0.  0.  0.  0.  0.  0.  0.  1.  0.  0.  0.  0.  0.  0.  0.  0.  0.  0.\n",
      "  1.  0.  0.  0.  0.  0.  0.  0.  0.  0.  0.  0.  0.  0.  0.  0.  1.  0.\n",
      "  0.  0.  0.  1.  0.  0.  0.  0.  0.  0.  0.  0.  1.  0.  1.  0.  0.  0.\n",
      "  0.  0.  0.  0.  0.  1.  0.  0.  0.  0.  0.  0.  0.  0.  0.  0.  0.  0.\n",
      "  1.  0.  0.  0.  0.  0.  0.  1.  1.  0.  0.  0.  1.  0.  1.  0.  0.  0.\n",
      "  0.  0.  0.  0.  0.  1.  1.  0.  0.  0.  0.  0.  0.  0.  0.  0.  0.  1.\n",
      "  0.  1.  1.  0.  0.  0.  0.  0.  0.  1.  0.  0.  1.  0.  0.  0.  0.  0.\n",
      "  0.  0.  0.  0.  0.  0.  0.  0.  0.  0.  1.  0.  0.  0.  0.  0.  1.  1.\n",
      "  0.  0.  0.  0.  0.  0.  0.  0.  0.  0.  0.  1.  0.  0.  0.  0.  0.  0.\n",
      "  0.  1.  0.  0.  0.  0.  0.  0.  0.  1.  1.  0.  0.  0.  1.  1.  0.  0.\n",
      "  0.  0.  0.  0.  0.  1.  1.  0.  0.  0.  0.  0.  0.  0.  0.  0.  0.  0.\n",
      "  0.  0.  0.  1.  0.  0.  0.  0.  0.  0.  0.  0.  0.  1.  0.  0.  1.  1.\n",
      "  0.  0.  0.  0.  0.  0.  0.  0.  1.  0.  0.  0.  0.  0.  1.  1.  0.  0.\n",
      "  1.  0.  0.  0.  1.  0.  0.  0.  0.  0.  0.  0.  0.  0.  0.  0.  0.  1.\n",
      "  1.  0.  1.  1.  0.  0.  0.  0.  0.  1.  0.  0.  0.  0.  1.  0.  0.  0.\n",
      "  0.  0.  0.  0.  1.  0.  0.  1.  0.  0.  0.  0.  0.  0.  0.  0.  0.  0.\n",
      "  0.  0.]\n"
     ]
    }
   ],
   "source": [
    "# predict class labels for the test set\n",
    "predicted = model2.predict(Z_test)\n",
    "print (predicted)"
   ]
  },
  {
   "cell_type": "code",
   "execution_count": 109,
   "metadata": {
    "collapsed": false
   },
   "outputs": [
    {
     "name": "stdout",
     "output_type": "stream",
     "text": [
      "[[ 0.70610757  0.29389243]\n",
      " [ 0.82942743  0.17057257]\n",
      " [ 0.78996271  0.21003729]\n",
      " [ 0.71714884  0.28285116]\n",
      " [ 0.82860543  0.17139457]\n",
      " [ 0.66919892  0.33080108]\n",
      " [ 0.80411336  0.19588664]\n",
      " [ 0.82942743  0.17057257]\n",
      " [ 0.80489925  0.19510075]\n",
      " [ 0.76636931  0.23363069]\n",
      " [ 0.65336844  0.34663156]\n",
      " [ 0.73297997  0.26702003]\n",
      " [ 0.78927393  0.21072607]\n",
      " [ 0.68660728  0.31339272]\n",
      " [ 0.47777583  0.52222417]\n",
      " [ 0.48227767  0.51772233]\n",
      " [ 0.65248622  0.34751378]\n",
      " [ 0.76164841  0.23835159]\n",
      " [ 0.67351301  0.32648699]\n",
      " [ 0.86128674  0.13871326]\n",
      " [ 0.76963284  0.23036716]\n",
      " [ 0.72272821  0.27727179]\n",
      " [ 0.8737568   0.1262432 ]\n",
      " [ 0.88208189  0.11791811]\n",
      " [ 0.53068538  0.46931462]\n",
      " [ 0.70610757  0.29389243]\n",
      " [ 0.7541737   0.2458263 ]\n",
      " [ 0.5221264   0.4778736 ]\n",
      " [ 0.35235687  0.64764313]\n",
      " [ 0.7779275   0.2220725 ]\n",
      " [ 0.88745073  0.11254927]\n",
      " [ 0.55386162  0.44613838]\n",
      " [ 0.78469494  0.21530506]\n",
      " [ 0.76285017  0.23714983]\n",
      " [ 0.911691    0.088309  ]\n",
      " [ 0.87598835  0.12401165]\n",
      " [ 0.44136563  0.55863437]\n",
      " [ 0.4487613   0.5512387 ]\n",
      " [ 0.55853775  0.44146225]\n",
      " [ 0.75679693  0.24320307]\n",
      " [ 0.83398915  0.16601085]\n",
      " [ 0.57389654  0.42610346]\n",
      " [ 0.82265297  0.17734703]\n",
      " [ 0.76421135  0.23578865]\n",
      " [ 0.77331873  0.22668127]\n",
      " [ 0.39426089  0.60573911]\n",
      " [ 0.79700881  0.20299119]\n",
      " [ 0.40339388  0.59660612]\n",
      " [ 0.55277458  0.44722542]\n",
      " [ 0.80580829  0.19419171]\n",
      " [ 0.78552016  0.21447984]\n",
      " [ 0.63671968  0.36328032]\n",
      " [ 0.86160277  0.13839723]\n",
      " [ 0.69929885  0.30070115]\n",
      " [ 0.60826738  0.39173262]\n",
      " [ 0.52146572  0.47853428]\n",
      " [ 0.57745223  0.42254777]\n",
      " [ 0.57745223  0.42254777]\n",
      " [ 0.59172477  0.40827523]\n",
      " [ 0.49202107  0.50797893]\n",
      " [ 0.83547847  0.16452153]\n",
      " [ 0.57745223  0.42254777]\n",
      " [ 0.35608459  0.64391541]\n",
      " [ 0.5444307   0.4555693 ]\n",
      " [ 0.76818502  0.23181498]\n",
      " [ 0.76253524  0.23746476]\n",
      " [ 0.83082183  0.16917817]\n",
      " [ 0.84892836  0.15107164]\n",
      " [ 0.8481408   0.1518592 ]\n",
      " [ 0.88453859  0.11546141]\n",
      " [ 0.90110735  0.09889265]\n",
      " [ 0.69103461  0.30896539]\n",
      " [ 0.84374611  0.15625389]\n",
      " [ 0.89198728  0.10801272]\n",
      " [ 0.7779275   0.2220725 ]\n",
      " [ 0.76253524  0.23746476]\n",
      " [ 0.59459602  0.40540398]\n",
      " [ 0.88116797  0.11883203]\n",
      " [ 0.87493148  0.12506852]\n",
      " [ 0.74803039  0.25196961]\n",
      " [ 0.65743541  0.34256459]\n",
      " [ 0.78927393  0.21072607]\n",
      " [ 0.61944278  0.38055722]\n",
      " [ 0.82146108  0.17853892]\n",
      " [ 0.77235813  0.22764187]\n",
      " [ 0.82748778  0.17251222]\n",
      " [ 0.80826479  0.19173521]\n",
      " [ 0.88061445  0.11938555]\n",
      " [ 0.74614588  0.25385412]\n",
      " [ 0.77718864  0.22281136]\n",
      " [ 0.8886347   0.1113653 ]\n",
      " [ 0.83318472  0.16681528]\n",
      " [ 0.86353456  0.13646544]\n",
      " [ 0.73875666  0.26124334]\n",
      " [ 0.50358059  0.49641941]\n",
      " [ 0.89404018  0.10595982]\n",
      " [ 0.7779275   0.2220725 ]\n",
      " [ 0.51127045  0.48872955]\n",
      " [ 0.77235813  0.22764187]\n",
      " [ 0.56655818  0.43344182]\n",
      " [ 0.84531209  0.15468791]\n",
      " [ 0.34224622  0.65775378]\n",
      " [ 0.59459602  0.40540398]\n",
      " [ 0.80608043  0.19391957]\n",
      " [ 0.87858443  0.12141557]\n",
      " [ 0.33256988  0.66743012]\n",
      " [ 0.69622911  0.30377089]\n",
      " [ 0.91511432  0.08488568]\n",
      " [ 0.6971585   0.3028415 ]\n",
      " [ 0.86062829  0.13937171]\n",
      " [ 0.60498563  0.39501437]\n",
      " [ 0.84531209  0.15468791]\n",
      " [ 0.54738272  0.45261728]\n",
      " [ 0.85932831  0.14067169]\n",
      " [ 0.85713386  0.14286614]\n",
      " [ 0.40493705  0.59506295]\n",
      " [ 0.82460318  0.17539682]\n",
      " [ 0.53430905  0.46569095]\n",
      " [ 0.84708836  0.15291164]\n",
      " [ 0.84660065  0.15339935]\n",
      " [ 0.51696335  0.48303665]\n",
      " [ 0.74983131  0.25016869]\n",
      " [ 0.72707482  0.27292518]\n",
      " [ 0.89533594  0.10466406]\n",
      " [ 0.75669529  0.24330471]\n",
      " [ 0.75015218  0.24984782]\n",
      " [ 0.47302997  0.52697003]\n",
      " [ 0.75551357  0.24448643]\n",
      " [ 0.59851812  0.40148188]\n",
      " [ 0.69831633  0.30168367]\n",
      " [ 0.87194826  0.12805174]\n",
      " [ 0.55141699  0.44858301]\n",
      " [ 0.66977844  0.33022156]\n",
      " [ 0.68547063  0.31452937]\n",
      " [ 0.5444307   0.4555693 ]\n",
      " [ 0.80996665  0.19003335]\n",
      " [ 0.85056469  0.14943531]\n",
      " [ 0.79700881  0.20299119]\n",
      " [ 0.8417363   0.1582637 ]\n",
      " [ 0.67472135  0.32527865]\n",
      " [ 0.8141779   0.1858221 ]\n",
      " [ 0.64361738  0.35638262]\n",
      " [ 0.48184323  0.51815677]\n",
      " [ 0.76344404  0.23655596]\n",
      " [ 0.78117983  0.21882017]\n",
      " [ 0.68860046  0.31139954]\n",
      " [ 0.81085764  0.18914236]\n",
      " [ 0.43269554  0.56730446]\n",
      " [ 0.90089782  0.09910218]\n",
      " [ 0.6283875   0.3716125 ]\n",
      " [ 0.53408318  0.46591682]\n",
      " [ 0.60695847  0.39304153]\n",
      " [ 0.79327119  0.20672881]\n",
      " [ 0.70190654  0.29809346]\n",
      " [ 0.73189847  0.26810153]\n",
      " [ 0.79168474  0.20831526]\n",
      " [ 0.43735152  0.56264848]\n",
      " [ 0.85734681  0.14265319]\n",
      " [ 0.40101642  0.59898358]\n",
      " [ 0.57190282  0.42809718]\n",
      " [ 0.60888018  0.39111982]\n",
      " [ 0.81045123  0.18954877]\n",
      " [ 0.81863262  0.18136738]\n",
      " [ 0.75600231  0.24399769]\n",
      " [ 0.55343163  0.44656837]\n",
      " [ 0.66351298  0.33648702]\n",
      " [ 0.86301667  0.13698333]\n",
      " [ 0.48140881  0.51859119]\n",
      " [ 0.73875666  0.26124334]\n",
      " [ 0.61407628  0.38592372]\n",
      " [ 0.83435541  0.16564459]\n",
      " [ 0.51899774  0.48100226]\n",
      " [ 0.84281874  0.15718126]\n",
      " [ 0.84896432  0.15103568]\n",
      " [ 0.51739784  0.48260216]\n",
      " [ 0.81850053  0.18149947]\n",
      " [ 0.85181717  0.14818283]\n",
      " [ 0.85439611  0.14560389]\n",
      " [ 0.72167524  0.27832476]\n",
      " [ 0.87858443  0.12141557]\n",
      " [ 0.3416738   0.6583262 ]\n",
      " [ 0.52553077  0.47446923]\n",
      " [ 0.69034497  0.30965503]\n",
      " [ 0.71318149  0.28681851]\n",
      " [ 0.69277157  0.30722843]\n",
      " [ 0.72109244  0.27890756]\n",
      " [ 0.8481408   0.1518592 ]\n",
      " [ 0.4143005   0.5856995 ]\n",
      " [ 0.42777904  0.57222096]\n",
      " [ 0.73981682  0.26018318]\n",
      " [ 0.82278537  0.17721463]\n",
      " [ 0.85588415  0.14411585]\n",
      " [ 0.35147553  0.64852447]\n",
      " [ 0.90293533  0.09706467]\n",
      " [ 0.4899847   0.5100153 ]\n",
      " [ 0.73474508  0.26525492]\n",
      " [ 0.87031417  0.12968583]\n",
      " [ 0.59297838  0.40702162]\n",
      " [ 0.75053604  0.24946396]\n",
      " [ 0.75920787  0.24079213]\n",
      " [ 0.89533594  0.10466406]\n",
      " [ 0.74874193  0.25125807]\n",
      " [ 0.53727091  0.46272909]\n",
      " [ 0.48751393  0.51248607]\n",
      " [ 0.4487613   0.5512387 ]\n",
      " [ 0.70555781  0.29444219]\n",
      " [ 0.89932324  0.10067676]\n",
      " [ 0.86301667  0.13698333]\n",
      " [ 0.70893192  0.29106808]\n",
      " [ 0.85044928  0.14955072]\n",
      " [ 0.86160277  0.13839723]\n",
      " [ 0.7159652   0.2840348 ]\n",
      " [ 0.76646273  0.23353727]\n",
      " [ 0.74471494  0.25528506]\n",
      " [ 0.84708836  0.15291164]\n",
      " [ 0.48751393  0.51248607]\n",
      " [ 0.806904    0.193096  ]\n",
      " [ 0.46225461  0.53774539]\n",
      " [ 0.45994889  0.54005111]\n",
      " [ 0.86225735  0.13774265]\n",
      " [ 0.55896675  0.44103325]\n",
      " [ 0.67568361  0.32431639]\n",
      " [ 0.50220554  0.49779446]\n",
      " [ 0.65486226  0.34513774]\n",
      " [ 0.85512666  0.14487334]\n",
      " [ 0.4976965   0.5023035 ]\n",
      " [ 0.7575022   0.2424978 ]\n",
      " [ 0.80480358  0.19519642]\n",
      " [ 0.49405771  0.50594229]\n",
      " [ 0.812942    0.187058  ]\n",
      " [ 0.70803541  0.29196459]\n",
      " [ 0.71418684  0.28581316]\n",
      " [ 0.85734681  0.14265319]\n",
      " [ 0.55853775  0.44146225]\n",
      " [ 0.80093486  0.19906514]\n",
      " [ 0.72568013  0.27431987]\n",
      " [ 0.54983139  0.45016861]\n",
      " [ 0.51398908  0.48601092]\n",
      " [ 0.67119422  0.32880578]\n",
      " [ 0.85439611  0.14560389]\n",
      " [ 0.8737568   0.1262432 ]\n",
      " [ 0.79705442  0.20294558]\n",
      " [ 0.77331873  0.22668127]\n",
      " [ 0.53836157  0.46163843]\n",
      " [ 0.44538742  0.55461258]\n",
      " [ 0.69622911  0.30377089]\n",
      " [ 0.70965541  0.29034459]\n",
      " [ 0.87304826  0.12695174]\n",
      " [ 0.87771256  0.12228744]\n",
      " [ 0.68484513  0.31515487]\n",
      " [ 0.47371138  0.52628862]\n",
      " [ 0.48751393  0.51248607]\n",
      " [ 0.55853775  0.44146225]\n",
      " [ 0.85534209  0.14465791]\n",
      " [ 0.72219732  0.27780268]\n",
      " [ 0.85964807  0.14035193]\n",
      " [ 0.86301667  0.13698333]\n",
      " [ 0.53430905  0.46569095]\n",
      " [ 0.67516232  0.32483768]\n",
      " [ 0.79168474  0.20831526]\n",
      " [ 0.8135587   0.1864413 ]\n",
      " [ 0.6283875   0.3716125 ]\n",
      " [ 0.87858443  0.12141557]\n",
      " [ 0.44242212  0.55757788]\n",
      " [ 0.88680908  0.11319092]\n",
      " [ 0.80435218  0.19564782]\n",
      " [ 0.57852248  0.42147752]\n",
      " [ 0.84231994  0.15768006]\n",
      " [ 0.51442374  0.48557626]\n",
      " [ 0.87194826  0.12805174]\n",
      " [ 0.85270073  0.14729927]\n",
      " [ 0.36588334  0.63411666]\n",
      " [ 0.7545928   0.2454072 ]\n",
      " [ 0.87031417  0.12968583]\n",
      " [ 0.51302371  0.48697629]\n",
      " [ 0.80065729  0.19934271]\n",
      " [ 0.72759991  0.27240009]\n",
      " [ 0.59851812  0.40148188]\n",
      " [ 0.7313822   0.2686178 ]\n",
      " [ 0.4802435   0.5197565 ]\n",
      " [ 0.48481703  0.51518297]\n",
      " [ 0.5934772   0.4065228 ]\n",
      " [ 0.5824909   0.4175091 ]\n",
      " [ 0.74874193  0.25125807]\n",
      " [ 0.42578569  0.57421431]\n",
      " [ 0.33521843  0.66478157]\n",
      " [ 0.66011877  0.33988123]\n",
      " [ 0.74482526  0.25517474]\n",
      " [ 0.50045125  0.49954875]\n",
      " [ 0.51805894  0.48194106]\n",
      " [ 0.53458329  0.46541671]\n",
      " [ 0.78606836  0.21393164]\n",
      " [ 0.67119422  0.32880578]\n",
      " [ 0.40011351  0.59988649]\n",
      " [ 0.47028406  0.52971594]\n",
      " [ 0.54284088  0.45715912]\n",
      " [ 0.60826738  0.39173262]\n",
      " [ 0.66401778  0.33598222]\n",
      " [ 0.55141699  0.44858301]\n",
      " [ 0.65926812  0.34073188]\n",
      " [ 0.80952436  0.19047564]\n",
      " [ 0.92365202  0.07634798]\n",
      " [ 0.78117983  0.21882017]\n",
      " [ 0.62471697  0.37528303]\n",
      " [ 0.60695847  0.39304153]\n",
      " [ 0.79168474  0.20831526]\n",
      " [ 0.87858443  0.12141557]\n",
      " [ 0.72598197  0.27401803]\n",
      " [ 0.50627928  0.49372072]\n",
      " [ 0.43577528  0.56422472]\n",
      " [ 0.89108172  0.10891828]\n",
      " [ 0.86062829  0.13937171]\n",
      " [ 0.69103461  0.30896539]\n",
      " [ 0.75135129  0.24864871]\n",
      " [ 0.89108172  0.10891828]\n",
      " [ 0.91646486  0.08353514]\n",
      " [ 0.6883579   0.3116421 ]\n",
      " [ 0.5824909   0.4175091 ]\n",
      " [ 0.74432518  0.25567482]\n",
      " [ 0.46154104  0.53845896]\n",
      " [ 0.70610757  0.29389243]\n",
      " [ 0.74449441  0.25550559]\n",
      " [ 0.43670008  0.56329992]\n",
      " [ 0.47071755  0.52928245]\n",
      " [ 0.80093486  0.19906514]\n",
      " [ 0.68929224  0.31070776]\n",
      " [ 0.84281874  0.15718126]\n",
      " [ 0.77117176  0.22882824]\n",
      " [ 0.5976167   0.4023833 ]\n",
      " [ 0.86608284  0.13391716]\n",
      " [ 0.75600231  0.24399769]\n",
      " [ 0.83033235  0.16966765]\n",
      " [ 0.48794867  0.51205133]\n",
      " [ 0.66919892  0.33080108]\n",
      " [ 0.53068538  0.46931462]\n",
      " [ 0.62088869  0.37911131]\n",
      " [ 0.90234329  0.09765671]\n",
      " [ 0.84870507  0.15129493]\n",
      " [ 0.42977473  0.57022527]\n",
      " [ 0.42977473  0.57022527]\n",
      " [ 0.51986643  0.48013357]\n",
      " [ 0.80875268  0.19124732]\n",
      " [ 0.4726176   0.5273824 ]\n",
      " [ 0.78203277  0.21796723]\n",
      " [ 0.73450791  0.26549209]\n",
      " [ 0.75238282  0.24761718]\n",
      " [ 0.36359222  0.63640778]\n",
      " [ 0.7904851   0.2095149 ]\n",
      " [ 0.85719795  0.14280205]\n",
      " [ 0.85734681  0.14265319]\n",
      " [ 0.79364187  0.20635813]\n",
      " [ 0.86702507  0.13297493]\n",
      " [ 0.82539994  0.17460006]\n",
      " [ 0.72995375  0.27004625]\n",
      " [ 0.86062829  0.13937171]\n",
      " [ 0.80793512  0.19206488]\n",
      " [ 0.88477829  0.11522171]\n",
      " [ 0.72025778  0.27974222]\n",
      " [ 0.86010116  0.13989884]\n",
      " [ 0.42977473  0.57022527]\n",
      " [ 0.44644584  0.55355416]\n",
      " [ 0.79087864  0.20912136]\n",
      " [ 0.44041305  0.55958695]\n",
      " [ 0.42180628  0.57819372]\n",
      " [ 0.81850053  0.18149947]\n",
      " [ 0.71300165  0.28699835]\n",
      " [ 0.53836157  0.46163843]\n",
      " [ 0.85932831  0.14067169]\n",
      " [ 0.57496917  0.42503083]\n",
      " [ 0.48387786  0.51612214]\n",
      " [ 0.60695847  0.39304153]\n",
      " [ 0.87417101  0.12582899]\n",
      " [ 0.73786029  0.26213971]\n",
      " [ 0.65644654  0.34355346]\n",
      " [ 0.42670533  0.57329467]\n",
      " [ 0.58142343  0.41857657]\n",
      " [ 0.87771256  0.12228744]\n",
      " [ 0.79435954  0.20564046]\n",
      " [ 0.71354316  0.28645684]\n",
      " [ 0.5288558   0.4711442 ]\n",
      " [ 0.72109244  0.27890756]\n",
      " [ 0.70610757  0.29389243]\n",
      " [ 0.38843844  0.61156156]\n",
      " [ 0.86418145  0.13581855]\n",
      " [ 0.87771256  0.12228744]\n",
      " [ 0.42272365  0.57727635]\n",
      " [ 0.91597297  0.08402703]\n",
      " [ 0.79293967  0.20706033]\n",
      " [ 0.72184808  0.27815192]\n",
      " [ 0.78606836  0.21393164]\n",
      " [ 0.72272821  0.27727179]\n",
      " [ 0.69763583  0.30236417]\n",
      " [ 0.70983649  0.29016351]\n",
      " [ 0.53676859  0.46323141]\n",
      " [ 0.87417101  0.12582899]\n",
      " [ 0.59655861  0.40344139]\n",
      " [ 0.78276183  0.21723817]\n",
      " [ 0.71000201  0.28999799]]\n"
     ]
    }
   ],
   "source": [
    "# generate class probabilities\n",
    "probs = model2.predict_proba(Z_test)\n",
    "print (probs)"
   ]
  },
  {
   "cell_type": "code",
   "execution_count": 110,
   "metadata": {
    "collapsed": false
   },
   "outputs": [
    {
     "name": "stdout",
     "output_type": "stream",
     "text": [
      "0.678391959799\n",
      "0.678443267259\n"
     ]
    }
   ],
   "source": [
    "# generate evaluation metrics\n",
    "print (metrics.accuracy_score(y_test, predicted))\n",
    "print (metrics.roc_auc_score(y_test, probs[:, 1]))"
   ]
  },
  {
   "cell_type": "code",
   "execution_count": 111,
   "metadata": {
    "collapsed": false
   },
   "outputs": [
    {
     "name": "stdout",
     "output_type": "stream",
     "text": [
      "[[239  27]\n",
      " [101  31]]\n",
      "             precision    recall  f1-score   support\n",
      "\n",
      "        0.0       0.70      0.90      0.79       266\n",
      "        1.0       0.53      0.23      0.33       132\n",
      "\n",
      "avg / total       0.65      0.68      0.64       398\n",
      "\n"
     ]
    }
   ],
   "source": [
    "print (metrics.confusion_matrix(y_test, predicted))\n",
    "print (metrics.classification_report(y_test, predicted))"
   ]
  },
  {
   "cell_type": "code",
   "execution_count": 112,
   "metadata": {
    "collapsed": false
   },
   "outputs": [
    {
     "name": "stdout",
     "output_type": "stream",
     "text": [
      "[ 0.53383459  0.7518797   0.69924812  0.68421053  0.64661654  0.80451128\n",
      "  0.73484848  0.66666667  0.61363636  0.71755725]\n",
      "0.685300951894\n"
     ]
    }
   ],
   "source": [
    "# evaluate the model using 10-fold cross-validation\n",
    "scores = cross_val_score(LogisticRegression(), Z, y, scoring='accuracy', cv=10)\n",
    "print (scores)\n",
    "print (scores.mean())"
   ]
  },
  {
   "cell_type": "code",
   "execution_count": 113,
   "metadata": {
    "collapsed": false
   },
   "outputs": [
    {
     "name": "stderr",
     "output_type": "stream",
     "text": [
      "C:\\Users\\Valued Customer\\Anaconda3\\lib\\site-packages\\sklearn\\utils\\validation.py:386: DeprecationWarning: Passing 1d arrays as data is deprecated in 0.17 and willraise ValueError in 0.19. Reshape your data either using X.reshape(-1, 1) if your data has a single feature or X.reshape(1, -1) if it contains a single sample.\n",
      "  DeprecationWarning)\n"
     ]
    },
    {
     "data": {
      "text/plain": [
       "array([[ 0.60709037,  0.39290963]])"
      ]
     },
     "execution_count": 113,
     "metadata": {},
     "output_type": "execute_result"
    }
   ],
   "source": [
    "model.predict_proba(np.array([0, 0, 1, 1, 3, 2, 1]))"
   ]
  },
  {
   "cell_type": "code",
   "execution_count": null,
   "metadata": {
    "collapsed": true
   },
   "outputs": [],
   "source": []
  },
  {
   "cell_type": "code",
   "execution_count": null,
   "metadata": {
    "collapsed": true
   },
   "outputs": [],
   "source": []
  },
  {
   "cell_type": "code",
   "execution_count": null,
   "metadata": {
    "collapsed": true
   },
   "outputs": [],
   "source": []
  }
 ],
 "metadata": {
  "anaconda-cloud": {},
  "kernelspec": {
   "display_name": "Python [conda root]",
   "language": "python",
   "name": "conda-root-py"
  },
  "language_info": {
   "codemirror_mode": {
    "name": "ipython",
    "version": 3
   },
   "file_extension": ".py",
   "mimetype": "text/x-python",
   "name": "python",
   "nbconvert_exporter": "python",
   "pygments_lexer": "ipython3",
   "version": "3.5.2"
  }
 },
 "nbformat": 4,
 "nbformat_minor": 1
}
