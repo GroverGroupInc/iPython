{
 "cells": [
  {
   "cell_type": "code",
   "execution_count": 6,
   "metadata": {
    "collapsed": false
   },
   "outputs": [],
   "source": [
    "#pip install pyodbc\n",
    "import pyodbc\n",
    "import pandas as pd\n"
   ]
  },
  {
   "cell_type": "code",
   "execution_count": null,
   "metadata": {
    "collapsed": false
   },
   "outputs": [],
   "source": [
    "Note: omit \"\"s when entering information.\n",
    "    \n",
    "conn = pyodbc.connect(\n",
    "#   r'DRIVER={ODBC Driver 11 for SQL Server};'\n",
    "    r'DRIVER={SQL Server};'    \n",
    "    r'SERVER=\"Enter name of server here\", \"Enter post number here\";'\n",
    "        r'DATABASE=\"Enter SQL database name here\";'\n",
    "    r'UID=\"Enter user ID here\";'\n",
    "    r'PWD=\"Enter password here\"'\n",
    "    )\n",
    "\n",
    "sql = \"\"\"\n",
    "\n",
    "SELECT * from \"Enter SQL file name here\"\n",
    "\n",
    "\"\"\"\n",
    "\n",
    "df = pd.read_sql(sql, conn)\n",
    "df.head()"
   ]
  },
  {
   "cell_type": "code",
   "execution_count": null,
   "metadata": {
    "collapsed": true
   },
   "outputs": [],
   "source": []
  }
 ],
 "metadata": {
  "kernelspec": {
   "display_name": "Python 3",
   "language": "python",
   "name": "python3"
  },
  "language_info": {
   "codemirror_mode": {
    "name": "ipython",
    "version": 3
   },
   "file_extension": ".py",
   "mimetype": "text/x-python",
   "name": "python",
   "nbconvert_exporter": "python",
   "pygments_lexer": "ipython3",
   "version": "3.6.0"
  }
 },
 "nbformat": 4,
 "nbformat_minor": 2
}
