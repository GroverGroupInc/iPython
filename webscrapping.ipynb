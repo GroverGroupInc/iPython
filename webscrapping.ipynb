{
 "cells": [
  {
   "cell_type": "code",
   "execution_count": 15,
   "metadata": {
    "collapsed": true
   },
   "outputs": [],
   "source": [
    "#https://www.youtube.com/watch?v=XQgXKtPSzUI\n",
    "#jsbeautifer\n",
    "#sublime editor"
   ]
  },
  {
   "cell_type": "code",
   "execution_count": 16,
   "metadata": {
    "collapsed": true
   },
   "outputs": [],
   "source": [
    "from urllib.request import urlopen as uReq"
   ]
  },
  {
   "cell_type": "code",
   "execution_count": 17,
   "metadata": {
    "collapsed": true
   },
   "outputs": [],
   "source": [
    "from bs4 import BeautifulSoup as soup"
   ]
  },
  {
   "cell_type": "code",
   "execution_count": 18,
   "metadata": {
    "collapsed": true
   },
   "outputs": [],
   "source": [
    "my_url = \"http://BayeSniffer.com\""
   ]
  },
  {
   "cell_type": "code",
   "execution_count": 19,
   "metadata": {
    "collapsed": true
   },
   "outputs": [],
   "source": [
    "uClient = uReq(my_url)"
   ]
  },
  {
   "cell_type": "code",
   "execution_count": 20,
   "metadata": {
    "collapsed": true
   },
   "outputs": [],
   "source": [
    "page_html = uClient.read()"
   ]
  },
  {
   "cell_type": "code",
   "execution_count": 21,
   "metadata": {
    "collapsed": true
   },
   "outputs": [],
   "source": [
    "uClient.close()"
   ]
  },
  {
   "cell_type": "code",
   "execution_count": 22,
   "metadata": {
    "collapsed": true
   },
   "outputs": [],
   "source": [
    "page_soup = soup(page_html, \"html.parser\")"
   ]
  },
  {
   "cell_type": "code",
   "execution_count": 23,
   "metadata": {
    "collapsed": false
   },
   "outputs": [
    {
     "data": {
      "text/plain": [
       "<h1 style=\"padding-top: 1px;\"> <img alt=\"BayeSniffer\" src=\"images/twitter_header.png\"/></h1>"
      ]
     },
     "execution_count": 23,
     "metadata": {},
     "output_type": "execute_result"
    }
   ],
   "source": [
    "page_soup.h1"
   ]
  },
  {
   "cell_type": "code",
   "execution_count": 24,
   "metadata": {
    "collapsed": false
   },
   "outputs": [
    {
     "data": {
      "text/plain": [
       "<p>Hello, I am Dr. Jeff Grover and welcome to our portal, BayeSniffer.com where we offer Bayesian Belief Networks as a service using our propritary BayeSniffer (TM) algorithm.</p>"
      ]
     },
     "execution_count": 24,
     "metadata": {},
     "output_type": "execute_result"
    }
   ],
   "source": [
    "page_soup.p"
   ]
  },
  {
   "cell_type": "code",
   "execution_count": 25,
   "metadata": {
    "collapsed": true
   },
   "outputs": [],
   "source": [
    "page_soup.body.span"
   ]
  },
  {
   "cell_type": "code",
   "execution_count": 26,
   "metadata": {
    "collapsed": false
   },
   "outputs": [
    {
     "data": {
      "text/plain": [
       "[<div class=\"row\">\n",
       " <div class=\"four columns header_nav\">\n",
       " <!--     <img class=\"logo\" src=\"images/TheDataSnifferLogo.jpg\"> -->\n",
       " <img class=\"logo\" src=\"images/BayeSniffer2.jpg\">\n",
       " <a href=\"https://www.positivessl.com/multi-domain-ssl-certificate.php\" style=\"font-family: arial; font-size: 10px; color: #212121; text-decoration: none;\"><img alt=\"Trusted Site Seal\" border=\"0\" src=\"http://www.positivessl.com/images-new/comodo_secure_seal_76x26_transp.png\" title=\"Trusted Site Seal for Multi Domain SSL\"/></a>\n",
       " <div style=\"font-family: arial;font-weight:bold;font-size:15px;color:#86BEE0;\"><a href=\"https://www.positivessl.com/multi-domain-ssl-certificate.php\" style=\"color:#86BEE0; text-decoration: none;\">Multi Domain SSL</a></div>\n",
       " </img></div>\n",
       " <div class=\"eight columns header_nav\">\n",
       " <div class=\"row\">\n",
       " <ul class=\"nav-bar horizontal\" id=\"menu-header\">\n",
       " <li><a href=\"\">Home</a></li>\n",
       " <li><a href=\"login2.php\">Login</a></li>\n",
       " <li class=\"has-flyout\">\n",
       " <a href=\"#\">Videos</a><a class=\"flyout-toggle\" href=\"#\"></a>\n",
       " <ul class=\"flyout\"><!-- Flyout Menu -->\n",
       " <li class=\"has-flyout\"><a href=\"https://www.youtube.com/user/drjeffgrover\" target=\"_new\" title=\"BayeSniffer YouTube Video\">BayeSniffer on YouTube</a></li>\n",
       " <li class=\"has-flyout\"><a href=\"https://www.udemy.com/the-manual-for-strategic-economic-decision-making/\" target=\"_new\" title=\"UDEMY.com Course\">The Manual for Strategic Economic Decision-Making: Using Bayesian Belief Networks to Solve Complex Problems</a></li>\n",
       " <li class=\"has-flyout\"><a href=\"https://www.udemy.com/strategic-economic-decision-making/\" target=\"_new\" title=\"UDEMY.com Course\">Strategic Economic Decision-Making: Using Bayesian Belief Networks to Solve Complex Problems</a></li>\n",
       " </ul>\n",
       " </li>\n",
       " <!-- ######################## New Flyout ######################## -->\n",
       " <li class=\"has-flyout\">\n",
       " <a href=\"#\">Open Data Catalogs</a><a class=\"flyout-toggle\" href=\"#\"></a>\n",
       " <ul class=\"flyout\"><!-- Flyout Menu -->\n",
       " <li class=\"has-flyout\"><a href=\"https://catalog.data.gov/organization\" target=\"_new\" title=\"Catalogs of US Government Open Data Portals\">US Government Portals</a></li>\n",
       " <li class=\"has-flyout\"><a href=\"https://opengovernmentdata.org/data/catalogues/\" target=\"_new\" title=\"Catalogs of Open Government Open Data Portals\">Open Government Portals</a></li>\n",
       " <li class=\"has-flyout\"><a href=\"https://bouldercolorado.gov/open-data\" target=\"_new\" title=\"Catalogs of US Government Open Data Portals\">Boulder, CO</a></li>\n",
       " <li class=\"has-flyout\"><a href=\"https://www.dallasopendata.com\" target=\"_new\" title=\"Catalogs of US Government Open Data Portals\">Dallas, TX</a></li>\n",
       " <li class=\"has-flyout\"><a href=\"https://www.denvergov.org/opendata/\" target=\"_new\" title=\"Catalogs of US Government Open Data Portals\">Denver, CO</a></li>\n",
       " <li class=\"has-flyout\"><a \"\"=\"\" <=\"\" a=\"\" target=\"_new\" title=\"Catalogs of World Government Open Data Portals\">Canada</a></li>\n",
       " <li class=\"has-flyout\"><a href=\"https://data.edmonton.ca/\" target=\"_new\" title=\"Catalogs of World Government Open Data Portals\">Edmonton, Canada</a></li>\n",
       " <li class=\"has-flyout\"><a href=\"https://www.ontario.ca/search/data-catalogue\" target=\"_new\" title=\"Catalogs of World Government Open Data Portals\">Ontario, Canada</a></li>\n",
       " <li class=\"has-flyout\"><a href=\"http://www1.toronto.ca/wps/portal/contentonly?vgnextoid=1a66e03bb8d1e310VgnVCM10000071d60f89RCRD\" target=\"_new\" title=\"Catalogs of World Government Open Data Portals\">Toronto, Canada</a></li>\n",
       " <li class=\"has-flyout\"><a href=\"http://data.vancouver.ca/datacatalogue/index.htm\" target=\"_new\" title=\"Catalogs of World Government Open Data Portals\">Vancouver, Canada</a></li>\n",
       " <li class=\"has-flyout\"><a href=\"http://data.worldbank.org/data-catalog/\" target=\"_new\" title=\"Catalogs of World Government Open Data Portals\">World Bank</a></li>\n",
       " </ul>\n",
       " </li>\n",
       " <li><a href=\"News.html\">News</a></li>\n",
       " <li><a href=\"FAQs.html\">FAQs</a></li>\n",
       " <li><a href=\"Demos.html\">Demos</a></li>\n",
       " <li><a href=\"http://bayesniffer.com/blog\" shape=\"rect\" target=\"_blank\">Blog</a></li>\n",
       " <li><a href=\"SEDM.html\">SEDM</a></li>\n",
       " <li><a href=\"Clients.html\" shape=\"rect\">Clients</a></li>\n",
       " <li><a href=\"Team.html\">Team</a></li>\n",
       " <li><a href=\"Capability.html\">Capability</a></li>\n",
       " <li><a href=\"OpenData.html\">Open Data</a></li>\n",
       " <li class=\"has-flyout\">\n",
       " <a href=\"#\">Socrata</a><a class=\"flyout-toggle\" href=\"#\"></a>\n",
       " <ul class=\"flyout\"><!-- Flyout Menu -->\n",
       " <li class=\"has-flyout\"><a href=\"http://bayesniffer.com/Health.html\" target=\"_new\" title=\"Health\">Health</a></li>\n",
       " <li class=\"has-flyout\"><a href=\"http://bayesniffer.com/Terrorism.html\" target=\"_new\" title=\"Terrorism\">Terrorism</a></li>\n",
       " <li class=\"has-flyout\"><a href=\"http://bayesniffer.com/Crime.html\" target=\"_new\" title=\"Crime\">Crime</a></li>\n",
       " </ul>\n",
       " </li></ul></div>\n",
       " </div>\n",
       " </div>, <div class=\"four columns header_nav\">\n",
       " <!--     <img class=\"logo\" src=\"images/TheDataSnifferLogo.jpg\"> -->\n",
       " <img class=\"logo\" src=\"images/BayeSniffer2.jpg\">\n",
       " <a href=\"https://www.positivessl.com/multi-domain-ssl-certificate.php\" style=\"font-family: arial; font-size: 10px; color: #212121; text-decoration: none;\"><img alt=\"Trusted Site Seal\" border=\"0\" src=\"http://www.positivessl.com/images-new/comodo_secure_seal_76x26_transp.png\" title=\"Trusted Site Seal for Multi Domain SSL\"/></a>\n",
       " <div style=\"font-family: arial;font-weight:bold;font-size:15px;color:#86BEE0;\"><a href=\"https://www.positivessl.com/multi-domain-ssl-certificate.php\" style=\"color:#86BEE0; text-decoration: none;\">Multi Domain SSL</a></div>\n",
       " </img></div>, <div style=\"font-family: arial;font-weight:bold;font-size:15px;color:#86BEE0;\"><a href=\"https://www.positivessl.com/multi-domain-ssl-certificate.php\" style=\"color:#86BEE0; text-decoration: none;\">Multi Domain SSL</a></div>, <div class=\"eight columns header_nav\">\n",
       " <div class=\"row\">\n",
       " <ul class=\"nav-bar horizontal\" id=\"menu-header\">\n",
       " <li><a href=\"\">Home</a></li>\n",
       " <li><a href=\"login2.php\">Login</a></li>\n",
       " <li class=\"has-flyout\">\n",
       " <a href=\"#\">Videos</a><a class=\"flyout-toggle\" href=\"#\"></a>\n",
       " <ul class=\"flyout\"><!-- Flyout Menu -->\n",
       " <li class=\"has-flyout\"><a href=\"https://www.youtube.com/user/drjeffgrover\" target=\"_new\" title=\"BayeSniffer YouTube Video\">BayeSniffer on YouTube</a></li>\n",
       " <li class=\"has-flyout\"><a href=\"https://www.udemy.com/the-manual-for-strategic-economic-decision-making/\" target=\"_new\" title=\"UDEMY.com Course\">The Manual for Strategic Economic Decision-Making: Using Bayesian Belief Networks to Solve Complex Problems</a></li>\n",
       " <li class=\"has-flyout\"><a href=\"https://www.udemy.com/strategic-economic-decision-making/\" target=\"_new\" title=\"UDEMY.com Course\">Strategic Economic Decision-Making: Using Bayesian Belief Networks to Solve Complex Problems</a></li>\n",
       " </ul>\n",
       " </li>\n",
       " <!-- ######################## New Flyout ######################## -->\n",
       " <li class=\"has-flyout\">\n",
       " <a href=\"#\">Open Data Catalogs</a><a class=\"flyout-toggle\" href=\"#\"></a>\n",
       " <ul class=\"flyout\"><!-- Flyout Menu -->\n",
       " <li class=\"has-flyout\"><a href=\"https://catalog.data.gov/organization\" target=\"_new\" title=\"Catalogs of US Government Open Data Portals\">US Government Portals</a></li>\n",
       " <li class=\"has-flyout\"><a href=\"https://opengovernmentdata.org/data/catalogues/\" target=\"_new\" title=\"Catalogs of Open Government Open Data Portals\">Open Government Portals</a></li>\n",
       " <li class=\"has-flyout\"><a href=\"https://bouldercolorado.gov/open-data\" target=\"_new\" title=\"Catalogs of US Government Open Data Portals\">Boulder, CO</a></li>\n",
       " <li class=\"has-flyout\"><a href=\"https://www.dallasopendata.com\" target=\"_new\" title=\"Catalogs of US Government Open Data Portals\">Dallas, TX</a></li>\n",
       " <li class=\"has-flyout\"><a href=\"https://www.denvergov.org/opendata/\" target=\"_new\" title=\"Catalogs of US Government Open Data Portals\">Denver, CO</a></li>\n",
       " <li class=\"has-flyout\"><a \"\"=\"\" <=\"\" a=\"\" target=\"_new\" title=\"Catalogs of World Government Open Data Portals\">Canada</a></li>\n",
       " <li class=\"has-flyout\"><a href=\"https://data.edmonton.ca/\" target=\"_new\" title=\"Catalogs of World Government Open Data Portals\">Edmonton, Canada</a></li>\n",
       " <li class=\"has-flyout\"><a href=\"https://www.ontario.ca/search/data-catalogue\" target=\"_new\" title=\"Catalogs of World Government Open Data Portals\">Ontario, Canada</a></li>\n",
       " <li class=\"has-flyout\"><a href=\"http://www1.toronto.ca/wps/portal/contentonly?vgnextoid=1a66e03bb8d1e310VgnVCM10000071d60f89RCRD\" target=\"_new\" title=\"Catalogs of World Government Open Data Portals\">Toronto, Canada</a></li>\n",
       " <li class=\"has-flyout\"><a href=\"http://data.vancouver.ca/datacatalogue/index.htm\" target=\"_new\" title=\"Catalogs of World Government Open Data Portals\">Vancouver, Canada</a></li>\n",
       " <li class=\"has-flyout\"><a href=\"http://data.worldbank.org/data-catalog/\" target=\"_new\" title=\"Catalogs of World Government Open Data Portals\">World Bank</a></li>\n",
       " </ul>\n",
       " </li>\n",
       " <li><a href=\"News.html\">News</a></li>\n",
       " <li><a href=\"FAQs.html\">FAQs</a></li>\n",
       " <li><a href=\"Demos.html\">Demos</a></li>\n",
       " <li><a href=\"http://bayesniffer.com/blog\" shape=\"rect\" target=\"_blank\">Blog</a></li>\n",
       " <li><a href=\"SEDM.html\">SEDM</a></li>\n",
       " <li><a href=\"Clients.html\" shape=\"rect\">Clients</a></li>\n",
       " <li><a href=\"Team.html\">Team</a></li>\n",
       " <li><a href=\"Capability.html\">Capability</a></li>\n",
       " <li><a href=\"OpenData.html\">Open Data</a></li>\n",
       " <li class=\"has-flyout\">\n",
       " <a href=\"#\">Socrata</a><a class=\"flyout-toggle\" href=\"#\"></a>\n",
       " <ul class=\"flyout\"><!-- Flyout Menu -->\n",
       " <li class=\"has-flyout\"><a href=\"http://bayesniffer.com/Health.html\" target=\"_new\" title=\"Health\">Health</a></li>\n",
       " <li class=\"has-flyout\"><a href=\"http://bayesniffer.com/Terrorism.html\" target=\"_new\" title=\"Terrorism\">Terrorism</a></li>\n",
       " <li class=\"has-flyout\"><a href=\"http://bayesniffer.com/Crime.html\" target=\"_new\" title=\"Crime\">Crime</a></li>\n",
       " </ul>\n",
       " </li></ul></div>\n",
       " </div>, <div class=\"row\">\n",
       " <ul class=\"nav-bar horizontal\" id=\"menu-header\">\n",
       " <li><a href=\"\">Home</a></li>\n",
       " <li><a href=\"login2.php\">Login</a></li>\n",
       " <li class=\"has-flyout\">\n",
       " <a href=\"#\">Videos</a><a class=\"flyout-toggle\" href=\"#\"></a>\n",
       " <ul class=\"flyout\"><!-- Flyout Menu -->\n",
       " <li class=\"has-flyout\"><a href=\"https://www.youtube.com/user/drjeffgrover\" target=\"_new\" title=\"BayeSniffer YouTube Video\">BayeSniffer on YouTube</a></li>\n",
       " <li class=\"has-flyout\"><a href=\"https://www.udemy.com/the-manual-for-strategic-economic-decision-making/\" target=\"_new\" title=\"UDEMY.com Course\">The Manual for Strategic Economic Decision-Making: Using Bayesian Belief Networks to Solve Complex Problems</a></li>\n",
       " <li class=\"has-flyout\"><a href=\"https://www.udemy.com/strategic-economic-decision-making/\" target=\"_new\" title=\"UDEMY.com Course\">Strategic Economic Decision-Making: Using Bayesian Belief Networks to Solve Complex Problems</a></li>\n",
       " </ul>\n",
       " </li>\n",
       " <!-- ######################## New Flyout ######################## -->\n",
       " <li class=\"has-flyout\">\n",
       " <a href=\"#\">Open Data Catalogs</a><a class=\"flyout-toggle\" href=\"#\"></a>\n",
       " <ul class=\"flyout\"><!-- Flyout Menu -->\n",
       " <li class=\"has-flyout\"><a href=\"https://catalog.data.gov/organization\" target=\"_new\" title=\"Catalogs of US Government Open Data Portals\">US Government Portals</a></li>\n",
       " <li class=\"has-flyout\"><a href=\"https://opengovernmentdata.org/data/catalogues/\" target=\"_new\" title=\"Catalogs of Open Government Open Data Portals\">Open Government Portals</a></li>\n",
       " <li class=\"has-flyout\"><a href=\"https://bouldercolorado.gov/open-data\" target=\"_new\" title=\"Catalogs of US Government Open Data Portals\">Boulder, CO</a></li>\n",
       " <li class=\"has-flyout\"><a href=\"https://www.dallasopendata.com\" target=\"_new\" title=\"Catalogs of US Government Open Data Portals\">Dallas, TX</a></li>\n",
       " <li class=\"has-flyout\"><a href=\"https://www.denvergov.org/opendata/\" target=\"_new\" title=\"Catalogs of US Government Open Data Portals\">Denver, CO</a></li>\n",
       " <li class=\"has-flyout\"><a \"\"=\"\" <=\"\" a=\"\" target=\"_new\" title=\"Catalogs of World Government Open Data Portals\">Canada</a></li>\n",
       " <li class=\"has-flyout\"><a href=\"https://data.edmonton.ca/\" target=\"_new\" title=\"Catalogs of World Government Open Data Portals\">Edmonton, Canada</a></li>\n",
       " <li class=\"has-flyout\"><a href=\"https://www.ontario.ca/search/data-catalogue\" target=\"_new\" title=\"Catalogs of World Government Open Data Portals\">Ontario, Canada</a></li>\n",
       " <li class=\"has-flyout\"><a href=\"http://www1.toronto.ca/wps/portal/contentonly?vgnextoid=1a66e03bb8d1e310VgnVCM10000071d60f89RCRD\" target=\"_new\" title=\"Catalogs of World Government Open Data Portals\">Toronto, Canada</a></li>\n",
       " <li class=\"has-flyout\"><a href=\"http://data.vancouver.ca/datacatalogue/index.htm\" target=\"_new\" title=\"Catalogs of World Government Open Data Portals\">Vancouver, Canada</a></li>\n",
       " <li class=\"has-flyout\"><a href=\"http://data.worldbank.org/data-catalog/\" target=\"_new\" title=\"Catalogs of World Government Open Data Portals\">World Bank</a></li>\n",
       " </ul>\n",
       " </li>\n",
       " <li><a href=\"News.html\">News</a></li>\n",
       " <li><a href=\"FAQs.html\">FAQs</a></li>\n",
       " <li><a href=\"Demos.html\">Demos</a></li>\n",
       " <li><a href=\"http://bayesniffer.com/blog\" shape=\"rect\" target=\"_blank\">Blog</a></li>\n",
       " <li><a href=\"SEDM.html\">SEDM</a></li>\n",
       " <li><a href=\"Clients.html\" shape=\"rect\">Clients</a></li>\n",
       " <li><a href=\"Team.html\">Team</a></li>\n",
       " <li><a href=\"Capability.html\">Capability</a></li>\n",
       " <li><a href=\"OpenData.html\">Open Data</a></li>\n",
       " <li class=\"has-flyout\">\n",
       " <a href=\"#\">Socrata</a><a class=\"flyout-toggle\" href=\"#\"></a>\n",
       " <ul class=\"flyout\"><!-- Flyout Menu -->\n",
       " <li class=\"has-flyout\"><a href=\"http://bayesniffer.com/Health.html\" target=\"_new\" title=\"Health\">Health</a></li>\n",
       " <li class=\"has-flyout\"><a href=\"http://bayesniffer.com/Terrorism.html\" target=\"_new\" title=\"Terrorism\">Terrorism</a></li>\n",
       " <li class=\"has-flyout\"><a href=\"http://bayesniffer.com/Crime.html\" target=\"_new\" title=\"Crime\">Crime</a></li>\n",
       " </ul>\n",
       " </li></ul></div>, <div class=\"row\"> <article class=\"four columns\">\n",
       " <div class=\"panel\" style=\"min-height: 370px; height: auto;\">\n",
       " <div align=\"center\"><h3>Welcome!</h3>\n",
       " </div>\n",
       " <p>Hello, I am Dr. Jeff Grover and welcome to our portal, BayeSniffer.com where we offer Bayesian Belief Networks as a service using our propritary BayeSniffer (TM) algorithm.</p>\n",
       " <p>We are pleased to offer you Bayesian data analytically products and services.</p>\n",
       " <p>We programmed BayeSniffer.com on the constructs of Bayes’ Theorem as it applies to Bayesian Belief Networks. What is so unique and amazing is that we use this type of logic every day in our decision-making processes using our common sense and intuition.  Now, we have a mathematical formula to funnel our thought through in making inductive decisions using our subject matter expertise with increasing measures of certainty and not just chance.</p>\n",
       " <p>We offer Bayesian analytics using an algorithm that sniffs through countable data and transforms that information into business intelligence for decision-makers.</p>\n",
       " <p>We are unique from our competitors in that our business intelligence results are not created in a “Black Box” but are theoretically reproducible and can be replicated manually.</p>\n",
       " <p>We do this using the theoretical constructs of Bayes’ Theorem, or BBNs.</p>\n",
       " <p>Our algorithm is housed in our secure local server where client data is stored to offer a more secure layer of data privacy and maximum protection against compromise. Our web portal is also SSL secured.</p>\n",
       " <p>We based the concept of our data-sniffing algorithm on our book, Strategic Economic Decision-Making: Using Bayesian Belief Networks to Solve Complex Problems. Since it was published by SpringerBriefs in 2013, it has sold over 12,600 electronic chapters or book copies.</p>\n",
       " <p>We are currently operational and are able to provide our products and services to you. We appreciate you taking the time to listen and look forward to partnering with you in the future.</p>\n",
       " <p>“The DataSniffer”</p> <a class=\"button secondary small radius\" href=\"Philosophy.html\">Our Philosophy »</a>\n",
       " </div> </article>\n",
       " <div align=\"center\"><article class=\"four columns\">\n",
       " <div class=\"panel\" style=\"min-height: 370px; height: auto;\">\n",
       " <div align=\"center\"> <h3>Grover Group, Inc.</h3>\n",
       " </div>\n",
       " <!--   <video controls=\"none\" width=\"250\" height=\"250\" src=\"/spaw/empty/Videos/Welcome-112315.mp4\">    -->\n",
       " <video controls=\"none\" height=\"250\" src=\"Videos/Welcome-112315.mp4\" type=\"video/mp4\" width=\"250\">\n",
       " \n",
       " Your browser does not support the video tag.\n",
       "                     </video>\n",
       " </div> </article>\n",
       " </div> <article class=\"four columns\">\n",
       " <div class=\"panel\" style=\"min-height: 370px; height: auto;\">\n",
       " <div align=\"center\"><h3>Offerings</h3>\n",
       " </div>\n",
       " <p>Our goal is to offer to decision-makers &amp; researchers a low cost product or service that takes the information contained in their data and harvest actionable business intelligence. The way do it is by either uploading either your clean data or by cleaning your data for a fee and preset our BBN algorithm for your service.</p>\n",
       " <p>Two options are available to you and are listed below. You just provide us with your data and we will clean it and upload it to our server within 24 hours so that you may begin your data analysis. Payment options are below for review based on your needs.</p>\n",
       " <p>Pay for Usage Option. You can opt to register and buy tokens to conduct a Bayesian Belief Network analysis. We will upload your data to our server and allow you to run queries either online or depending on the processing time, we will deliver it to you via email for follow on statistical analysis. </p>\n",
       " <p>Pay for Service Option. You can opt for us to clean and upload your data onto our server, conduct an analysis using hypothesis testing, and then provide you with the raw statistical results in the form of Microsoft Excel or text files. Our fees are based on the size of the data and the cleaning and preparation time. </p>\n",
       " <p> We also offer other hybrid options available based on prior arrangements with our clients. We understand and will facilitate these changes to meet our client needs. Please feel free to coordinate a product Demo, as required.</p> <a class=\"button secondary small radius\" href=\"offerings.html\">Offerings »</a>\n",
       " </div> </article>\n",
       " </div>, <div class=\"panel\" style=\"min-height: 370px; height: auto;\">\n",
       " <div align=\"center\"><h3>Welcome!</h3>\n",
       " </div>\n",
       " <p>Hello, I am Dr. Jeff Grover and welcome to our portal, BayeSniffer.com where we offer Bayesian Belief Networks as a service using our propritary BayeSniffer (TM) algorithm.</p>\n",
       " <p>We are pleased to offer you Bayesian data analytically products and services.</p>\n",
       " <p>We programmed BayeSniffer.com on the constructs of Bayes’ Theorem as it applies to Bayesian Belief Networks. What is so unique and amazing is that we use this type of logic every day in our decision-making processes using our common sense and intuition.  Now, we have a mathematical formula to funnel our thought through in making inductive decisions using our subject matter expertise with increasing measures of certainty and not just chance.</p>\n",
       " <p>We offer Bayesian analytics using an algorithm that sniffs through countable data and transforms that information into business intelligence for decision-makers.</p>\n",
       " <p>We are unique from our competitors in that our business intelligence results are not created in a “Black Box” but are theoretically reproducible and can be replicated manually.</p>\n",
       " <p>We do this using the theoretical constructs of Bayes’ Theorem, or BBNs.</p>\n",
       " <p>Our algorithm is housed in our secure local server where client data is stored to offer a more secure layer of data privacy and maximum protection against compromise. Our web portal is also SSL secured.</p>\n",
       " <p>We based the concept of our data-sniffing algorithm on our book, Strategic Economic Decision-Making: Using Bayesian Belief Networks to Solve Complex Problems. Since it was published by SpringerBriefs in 2013, it has sold over 12,600 electronic chapters or book copies.</p>\n",
       " <p>We are currently operational and are able to provide our products and services to you. We appreciate you taking the time to listen and look forward to partnering with you in the future.</p>\n",
       " <p>“The DataSniffer”</p> <a class=\"button secondary small radius\" href=\"Philosophy.html\">Our Philosophy »</a>\n",
       " </div>, <div align=\"center\"><h3>Welcome!</h3>\n",
       " </div>, <div align=\"center\"><article class=\"four columns\">\n",
       " <div class=\"panel\" style=\"min-height: 370px; height: auto;\">\n",
       " <div align=\"center\"> <h3>Grover Group, Inc.</h3>\n",
       " </div>\n",
       " <!--   <video controls=\"none\" width=\"250\" height=\"250\" src=\"/spaw/empty/Videos/Welcome-112315.mp4\">    -->\n",
       " <video controls=\"none\" height=\"250\" src=\"Videos/Welcome-112315.mp4\" type=\"video/mp4\" width=\"250\">\n",
       " \n",
       " Your browser does not support the video tag.\n",
       "                     </video>\n",
       " </div> </article>\n",
       " </div>, <div class=\"panel\" style=\"min-height: 370px; height: auto;\">\n",
       " <div align=\"center\"> <h3>Grover Group, Inc.</h3>\n",
       " </div>\n",
       " <!--   <video controls=\"none\" width=\"250\" height=\"250\" src=\"/spaw/empty/Videos/Welcome-112315.mp4\">    -->\n",
       " <video controls=\"none\" height=\"250\" src=\"Videos/Welcome-112315.mp4\" type=\"video/mp4\" width=\"250\">\n",
       " \n",
       " Your browser does not support the video tag.\n",
       "                     </video>\n",
       " </div>, <div align=\"center\"> <h3>Grover Group, Inc.</h3>\n",
       " </div>, <div class=\"panel\" style=\"min-height: 370px; height: auto;\">\n",
       " <div align=\"center\"><h3>Offerings</h3>\n",
       " </div>\n",
       " <p>Our goal is to offer to decision-makers &amp; researchers a low cost product or service that takes the information contained in their data and harvest actionable business intelligence. The way do it is by either uploading either your clean data or by cleaning your data for a fee and preset our BBN algorithm for your service.</p>\n",
       " <p>Two options are available to you and are listed below. You just provide us with your data and we will clean it and upload it to our server within 24 hours so that you may begin your data analysis. Payment options are below for review based on your needs.</p>\n",
       " <p>Pay for Usage Option. You can opt to register and buy tokens to conduct a Bayesian Belief Network analysis. We will upload your data to our server and allow you to run queries either online or depending on the processing time, we will deliver it to you via email for follow on statistical analysis. </p>\n",
       " <p>Pay for Service Option. You can opt for us to clean and upload your data onto our server, conduct an analysis using hypothesis testing, and then provide you with the raw statistical results in the form of Microsoft Excel or text files. Our fees are based on the size of the data and the cleaning and preparation time. </p>\n",
       " <p> We also offer other hybrid options available based on prior arrangements with our clients. We understand and will facilitate these changes to meet our client needs. Please feel free to coordinate a product Demo, as required.</p> <a class=\"button secondary small radius\" href=\"offerings.html\">Offerings »</a>\n",
       " </div>, <div align=\"center\"><h3>Offerings</h3>\n",
       " </div>, <div class=\"row\">\n",
       " <div class=\"twelve columns footer\">\n",
       " <a class=\"lsf-icon\" href=\"https://twitter.com/theDataSniffer\" style=\"margin-right:15px\" target=\"_blank\" title=\"The DataSniffer on Twitter\"><img alt=\"Twitter\" src=\"images/twitter-bird.png\"/></a>\n",
       " <a class=\"lsf-icon\" href=\"https://plus.google.com/+DrJeffGrover-GGI\" style=\"margin-right:15px\" target=\"_blank\" title=\"Google +\"><img alt=\"Google Plus\" src=\"images/google-plus.png\"/></a>\n",
       " <a class=\"lsf-icon\" href=\"https://www.linkedin.com/company/grover-group-inc-\" style=\"margin-right:15px\" target=\"_blank\" title=\"Grover Group, Inc. on LinkedIn\"><img alt=\"LinkedIn\" src=\"images/linkedin.png\"/></a>\n",
       " <a class=\"lsf-icon\" href=\"https://www.youtube.com/channel/UCo4fmHOUDiSbC5tX4Zj1KZA\" style=\"margin-right:15px\" target=\"_blank\" title=\"Grover Group, Inc. on YouTube\"><img alt=\"LinkedIn\" src=\"images/YouTube23.png\"/></a>\n",
       " <a class=\"lsf-icon\" href=\"https://github.com/GroverGroupInc/iPython\" style=\"margin-right:15px\" target=\"_blank\" title=\"Grover Group, Inc. on GitHub\"><img alt=\"GitHub\" src=\"images/GitHub80.png\"/></a>\n",
       " <!--       <a href=\"https://www.facebook.com/theDataSniffer\" class=\"lsf-icon\" style=\"margin-right:15px\" target=\"_blank\" title=\"The DataSniffer on Facebook\"><img alt=\"Facebook\" src=\"images/fb.png\"></a> \n",
       "            <a href=\"https://facebook.com/strategiceconomicdecisionmaking\" class=\"lsf-icon\" style=\"margin-right:15px\" target=\"_blank\" title=\"Strategic Economic Decision-Making on Facebook\"><img alt=\"Facebook\" src=\"images/fb.png\"></a>\n",
       "            <a href=\"https://www.udemy.com/strategic-economic-decision-making/\" class=\"lsf-icon\" style=\"margin-right:15px\" target=\"_blank\" title=\"Strategic Economic Decision-Making on Udemy\"><img alt=\"Udemy\" src=\"images/udemy.png\"></a>    \n",
       "            <a href=\"http://thedatasniffer.tumblr.com//\" class=\"lsf-icon\" style=\"margin-right:15px\" target=\"_blank\" title=\"The DataSniffer on Tumblr\"><img alt=\"Tumblr\" src=\"images/tumblr_logo_white_blue_32.png\"></a> -->\n",
       " <p>Copyright 2017-Grover Group, Inc. | 270-312-8077 | DrJeffGrover@TheDataSniffer.com</p>\n",
       " </div>\n",
       " </div>, <div class=\"twelve columns footer\">\n",
       " <a class=\"lsf-icon\" href=\"https://twitter.com/theDataSniffer\" style=\"margin-right:15px\" target=\"_blank\" title=\"The DataSniffer on Twitter\"><img alt=\"Twitter\" src=\"images/twitter-bird.png\"/></a>\n",
       " <a class=\"lsf-icon\" href=\"https://plus.google.com/+DrJeffGrover-GGI\" style=\"margin-right:15px\" target=\"_blank\" title=\"Google +\"><img alt=\"Google Plus\" src=\"images/google-plus.png\"/></a>\n",
       " <a class=\"lsf-icon\" href=\"https://www.linkedin.com/company/grover-group-inc-\" style=\"margin-right:15px\" target=\"_blank\" title=\"Grover Group, Inc. on LinkedIn\"><img alt=\"LinkedIn\" src=\"images/linkedin.png\"/></a>\n",
       " <a class=\"lsf-icon\" href=\"https://www.youtube.com/channel/UCo4fmHOUDiSbC5tX4Zj1KZA\" style=\"margin-right:15px\" target=\"_blank\" title=\"Grover Group, Inc. on YouTube\"><img alt=\"LinkedIn\" src=\"images/YouTube23.png\"/></a>\n",
       " <a class=\"lsf-icon\" href=\"https://github.com/GroverGroupInc/iPython\" style=\"margin-right:15px\" target=\"_blank\" title=\"Grover Group, Inc. on GitHub\"><img alt=\"GitHub\" src=\"images/GitHub80.png\"/></a>\n",
       " <!--       <a href=\"https://www.facebook.com/theDataSniffer\" class=\"lsf-icon\" style=\"margin-right:15px\" target=\"_blank\" title=\"The DataSniffer on Facebook\"><img alt=\"Facebook\" src=\"images/fb.png\"></a> \n",
       "            <a href=\"https://facebook.com/strategiceconomicdecisionmaking\" class=\"lsf-icon\" style=\"margin-right:15px\" target=\"_blank\" title=\"Strategic Economic Decision-Making on Facebook\"><img alt=\"Facebook\" src=\"images/fb.png\"></a>\n",
       "            <a href=\"https://www.udemy.com/strategic-economic-decision-making/\" class=\"lsf-icon\" style=\"margin-right:15px\" target=\"_blank\" title=\"Strategic Economic Decision-Making on Udemy\"><img alt=\"Udemy\" src=\"images/udemy.png\"></a>    \n",
       "            <a href=\"http://thedatasniffer.tumblr.com//\" class=\"lsf-icon\" style=\"margin-right:15px\" target=\"_blank\" title=\"The DataSniffer on Tumblr\"><img alt=\"Tumblr\" src=\"images/tumblr_logo_white_blue_32.png\"></a> -->\n",
       " <p>Copyright 2017-Grover Group, Inc. | 270-312-8077 | DrJeffGrover@TheDataSniffer.com</p>\n",
       " </div>]"
      ]
     },
     "execution_count": 26,
     "metadata": {},
     "output_type": "execute_result"
    }
   ],
   "source": [
    "page_soup.findAll(\"div\")"
   ]
  },
  {
   "cell_type": "code",
   "execution_count": null,
   "metadata": {
    "collapsed": true
   },
   "outputs": [],
   "source": []
  }
 ],
 "metadata": {
  "kernelspec": {
   "display_name": "Python 3",
   "language": "python",
   "name": "python3"
  },
  "language_info": {
   "codemirror_mode": {
    "name": "ipython",
    "version": 3
   },
   "file_extension": ".py",
   "mimetype": "text/x-python",
   "name": "python",
   "nbconvert_exporter": "python",
   "pygments_lexer": "ipython3",
   "version": "3.6.0"
  }
 },
 "nbformat": 4,
 "nbformat_minor": 2
}
